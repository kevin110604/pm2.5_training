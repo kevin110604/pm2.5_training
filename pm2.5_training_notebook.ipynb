{
 "cells": [
  {
   "cell_type": "markdown",
   "metadata": {},
   "source": [
    "# pm2.5 training notebook"
   ]
  },
  {
   "cell_type": "code",
   "execution_count": 1,
   "metadata": {},
   "outputs": [],
   "source": [
    "import json\n",
    "import datetime as dt\n",
    "import pytz\n",
    "import requests\n",
    "\n",
    "import numpy as np\n",
    "import pandas as pd\n",
    "import matplotlib.pyplot as plt\n",
    "from sklearn import linear_model, metrics, model_selection\n",
    "from scipy import stats"
   ]
  },
  {
   "cell_type": "markdown",
   "metadata": {},
   "source": [
    "## Functions that get data from server to us"
   ]
  },
  {
   "cell_type": "code",
   "execution_count": 2,
   "metadata": {},
   "outputs": [],
   "source": [
    "def get_data_by_pos(pos):\n",
    "    r = requests.get(f'http://140.116.82.93:6800/campus/display/{ pos }')\n",
    "    # date field in self.data is the str of datetime\n",
    "    # We need to convert it to timezone aware object first\n",
    "    data = json.loads(r.text)\n",
    "    for index, value in enumerate(data):\n",
    "      # strptime() parse str of date according to the format given behind\n",
    "      # It is still naive datetime object, meaning that it is unaware of timezone\n",
    "      unaware = dt.datetime.strptime(value.get('date'),  '%a, %d %b %Y %H:%M:%S %Z')\n",
    "      # Create a utc timezone\n",
    "      utc_timezone = pytz.timezone('UTC')\n",
    "      # make utc_unaware obj aware of timezone\n",
    "      # Convert the given time directly to literally the same time with different timezone\n",
    "      # For example: Change from 2019-05-19 07:41:13(unaware) to 2019-05-19 07:41:13+00:00(aware, tzinfo=UTC)\n",
    "      utc_aware = utc_timezone.localize(unaware)\n",
    "      # This can also do the same thing\n",
    "      # Replace the tzinfo of an unaware datetime object to a given tzinfo\n",
    "      # utc_aware = unaware.replace(tzinfo=pytz.utc)\n",
    "\n",
    "      # Transform utc timezone to +8 GMT timezone\n",
    "      # Convert the given time to the same moment of time just like performing timezone calculation\n",
    "      # For example: Change from 2019-05-19 07:41:13+00:00(aware, tzinfo=UTC) to 2019-05-19 15:41:13+08:00(aware, tzinfo=Asiz/Taipei)\n",
    "      taiwan_aware = utc_aware.astimezone(pytz.timezone('Asia/Taipei'))\n",
    "      # print(f\"{ index }: {unaware} {utc_aware} {taiwan_aware}\")\n",
    "      value['date'] = taiwan_aware\n",
    "    return data"
   ]
  },
  {
   "cell_type": "code",
   "execution_count": 3,
   "metadata": {},
   "outputs": [],
   "source": [
    "def get_all_data():\n",
    "    r = requests.get(f'http://140.116.82.93:6800/training')\n",
    "    # date field in self.data is the str of datetime\n",
    "    # We need to convert it to timezone aware object first\n",
    "    data = json.loads(r.text)\n",
    "    for index, value in enumerate(data):\n",
    "      # strptime() parse str of date according to the format given behind\n",
    "      # It is still naive datetime object, meaning that it is unaware of timezone\n",
    "      unaware = dt.datetime.strptime(value.get('date'),  '%a, %d %b %Y %H:%M:%S %Z')\n",
    "      # Create a utc timezone\n",
    "      utc_timezone = pytz.timezone('UTC')\n",
    "      # make utc_unaware obj aware of timezone\n",
    "      # Convert the given time directly to literally the same time with different timezone\n",
    "      # For example: Change from 2019-05-19 07:41:13(unaware) to 2019-05-19 07:41:13+00:00(aware, tzinfo=UTC)\n",
    "      utc_aware = utc_timezone.localize(unaware)\n",
    "      # This can also do the same thing\n",
    "      # Replace the tzinfo of an unaware datetime object to a given tzinfo\n",
    "      # utc_aware = unaware.replace(tzinfo=pytz.utc)\n",
    "\n",
    "      # Transform utc timezone to +8 GMT timezone\n",
    "      # Convert the given time to the same moment of time just like performing timezone calculation\n",
    "      # For example: Change from 2019-05-19 07:41:13+00:00(aware, tzinfo=UTC) to 2019-05-19 15:41:13+08:00(aware, tzinfo=Asiz/Taipei)\n",
    "      taiwan_aware = utc_aware.astimezone(pytz.timezone('Asia/Taipei'))\n",
    "      # print(f\"{ index }: {unaware} {utc_aware} {taiwan_aware}\")\n",
    "      value['date'] = taiwan_aware\n",
    "    return data"
   ]
  },
  {
   "cell_type": "markdown",
   "metadata": {},
   "source": [
    "## 特定一個 position 的 Linear Regression\n",
    "\n",
    "暫定的做法是：將每一小時的資料做平均，然後將下一小時的 pm2.5 平均當作想要預測的 y。如果下一小時的 pm2.5 平均無法取得(資料缺失)，則將該 row 捨棄。拿來訓練的 columns 目前有 'month', 'day', 'weekday', 'hour', 'pm1.0', 'pm2.5', 'pm10.0', 'temp', 'humidity'。\n",
    "\n",
    "### Load data\n"
   ]
  },
  {
   "cell_type": "code",
   "execution_count": 4,
   "metadata": {},
   "outputs": [],
   "source": [
    "data3 = get_data_by_pos(3)"
   ]
  },
  {
   "cell_type": "code",
   "execution_count": 5,
   "metadata": {},
   "outputs": [],
   "source": [
    "df3 = pd.DataFrame(data3)"
   ]
  },
  {
   "cell_type": "code",
   "execution_count": 6,
   "metadata": {},
   "outputs": [
    {
     "data": {
      "text/html": [
       "<div>\n",
       "<style scoped>\n",
       "    .dataframe tbody tr th:only-of-type {\n",
       "        vertical-align: middle;\n",
       "    }\n",
       "\n",
       "    .dataframe tbody tr th {\n",
       "        vertical-align: top;\n",
       "    }\n",
       "\n",
       "    .dataframe thead th {\n",
       "        text-align: right;\n",
       "    }\n",
       "</style>\n",
       "<table border=\"1\" class=\"dataframe\">\n",
       "  <thead>\n",
       "    <tr style=\"text-align: right;\">\n",
       "      <th></th>\n",
       "      <th>date</th>\n",
       "      <th>humidity</th>\n",
       "      <th>pm10</th>\n",
       "      <th>pm100</th>\n",
       "      <th>pm25</th>\n",
       "      <th>temp</th>\n",
       "    </tr>\n",
       "  </thead>\n",
       "  <tbody>\n",
       "    <tr>\n",
       "      <th>0</th>\n",
       "      <td>2019-05-11 09:28:17+08:00</td>\n",
       "      <td>62</td>\n",
       "      <td>50</td>\n",
       "      <td>94</td>\n",
       "      <td>78</td>\n",
       "      <td>28</td>\n",
       "    </tr>\n",
       "    <tr>\n",
       "      <th>1</th>\n",
       "      <td>2019-05-11 09:43:14+08:00</td>\n",
       "      <td>61</td>\n",
       "      <td>36</td>\n",
       "      <td>71</td>\n",
       "      <td>60</td>\n",
       "      <td>29</td>\n",
       "    </tr>\n",
       "    <tr>\n",
       "      <th>2</th>\n",
       "      <td>2019-05-11 09:58:13+08:00</td>\n",
       "      <td>59</td>\n",
       "      <td>39</td>\n",
       "      <td>75</td>\n",
       "      <td>63</td>\n",
       "      <td>29</td>\n",
       "    </tr>\n",
       "    <tr>\n",
       "      <th>3</th>\n",
       "      <td>2019-05-11 10:13:10+08:00</td>\n",
       "      <td>59</td>\n",
       "      <td>41</td>\n",
       "      <td>78</td>\n",
       "      <td>66</td>\n",
       "      <td>29</td>\n",
       "    </tr>\n",
       "    <tr>\n",
       "      <th>4</th>\n",
       "      <td>2019-05-11 10:28:07+08:00</td>\n",
       "      <td>59</td>\n",
       "      <td>33</td>\n",
       "      <td>67</td>\n",
       "      <td>52</td>\n",
       "      <td>30</td>\n",
       "    </tr>\n",
       "  </tbody>\n",
       "</table>\n",
       "</div>"
      ],
      "text/plain": [
       "                       date  humidity  pm10  pm100  pm25  temp\n",
       "0 2019-05-11 09:28:17+08:00        62    50     94    78    28\n",
       "1 2019-05-11 09:43:14+08:00        61    36     71    60    29\n",
       "2 2019-05-11 09:58:13+08:00        59    39     75    63    29\n",
       "3 2019-05-11 10:13:10+08:00        59    41     78    66    29\n",
       "4 2019-05-11 10:28:07+08:00        59    33     67    52    30"
      ]
     },
     "execution_count": 6,
     "metadata": {},
     "output_type": "execute_result"
    }
   ],
   "source": [
    "df3.head()"
   ]
  },
  {
   "cell_type": "markdown",
   "metadata": {},
   "source": [
    "### Data preprocessing"
   ]
  },
  {
   "cell_type": "code",
   "execution_count": 7,
   "metadata": {},
   "outputs": [],
   "source": [
    "# Input time\n",
    "time = ['2019 06 01', '2019 08 06']\n",
    "taipei_tz = pytz.timezone('Asia/Taipei')\n",
    "# Set time\n",
    "start_time = dt.datetime.strptime(time[0], '%Y %m %d').replace(tzinfo=taipei_tz)\n",
    "end_time = dt.datetime.strptime(time[1], '%Y %m %d').replace(tzinfo=taipei_tz)\n",
    "# Select the duration\n",
    "df3 = df3.loc[ df3['date'] >= start_time ]\n",
    "df3 = df3.loc[ df3['date'] <= end_time ]"
   ]
  },
  {
   "cell_type": "code",
   "execution_count": 8,
   "metadata": {},
   "outputs": [],
   "source": [
    "# Rename the names of columns\n",
    "df3 = df3.rename(columns = {'pm10': 'pm1.0', 'pm25': 'pm2.5', 'pm100': 'pm10.0'})"
   ]
  },
  {
   "cell_type": "code",
   "execution_count": 9,
   "metadata": {},
   "outputs": [],
   "source": [
    "# Exclude outliers\n",
    "want_cols = ['humidity', 'pm1.0', 'pm10.0', 'pm2.5', 'temp']\n",
    "df3 = df3[(np.abs(stats.zscore(df3.loc[:, want_cols])) < 4).all(axis=1)]"
   ]
  },
  {
   "cell_type": "code",
   "execution_count": 10,
   "metadata": {},
   "outputs": [],
   "source": [
    "# Split time infomation from column `date`\n",
    "df3['month'] = df3['date'].apply(lambda x: x.month)\n",
    "df3['day'] = df3['date'].apply(lambda x: x.day)\n",
    "df3['weekday'] = df3['date'].apply(lambda x: x.weekday)\n",
    "df3['hour'] = df3['date'].apply(lambda x: x.hour)\n",
    "df3['hour_minute'] = df3['date'].apply(lambda x: x.hour+x.minute/60)"
   ]
  },
  {
   "cell_type": "code",
   "execution_count": 11,
   "metadata": {},
   "outputs": [],
   "source": [
    "# Set the order of the columns & discard some columns\n",
    "df3 = df3[['month', 'day', 'weekday', 'hour', 'hour_minute', 'pm1.0', 'pm2.5', 'pm10.0', 'temp', 'humidity']]"
   ]
  },
  {
   "cell_type": "code",
   "execution_count": 12,
   "metadata": {},
   "outputs": [
    {
     "data": {
      "text/html": [
       "<div>\n",
       "<style scoped>\n",
       "    .dataframe tbody tr th:only-of-type {\n",
       "        vertical-align: middle;\n",
       "    }\n",
       "\n",
       "    .dataframe tbody tr th {\n",
       "        vertical-align: top;\n",
       "    }\n",
       "\n",
       "    .dataframe thead th {\n",
       "        text-align: right;\n",
       "    }\n",
       "</style>\n",
       "<table border=\"1\" class=\"dataframe\">\n",
       "  <thead>\n",
       "    <tr style=\"text-align: right;\">\n",
       "      <th></th>\n",
       "      <th>month</th>\n",
       "      <th>day</th>\n",
       "      <th>weekday</th>\n",
       "      <th>hour</th>\n",
       "      <th>hour_minute</th>\n",
       "      <th>pm1.0</th>\n",
       "      <th>pm2.5</th>\n",
       "      <th>pm10.0</th>\n",
       "      <th>temp</th>\n",
       "      <th>humidity</th>\n",
       "    </tr>\n",
       "  </thead>\n",
       "  <tbody>\n",
       "    <tr>\n",
       "      <th>1887</th>\n",
       "      <td>6</td>\n",
       "      <td>1</td>\n",
       "      <td>5</td>\n",
       "      <td>0</td>\n",
       "      <td>0.00</td>\n",
       "      <td>11</td>\n",
       "      <td>14</td>\n",
       "      <td>17</td>\n",
       "      <td>26</td>\n",
       "      <td>70</td>\n",
       "    </tr>\n",
       "    <tr>\n",
       "      <th>1888</th>\n",
       "      <td>6</td>\n",
       "      <td>1</td>\n",
       "      <td>5</td>\n",
       "      <td>0</td>\n",
       "      <td>0.25</td>\n",
       "      <td>11</td>\n",
       "      <td>14</td>\n",
       "      <td>17</td>\n",
       "      <td>26</td>\n",
       "      <td>70</td>\n",
       "    </tr>\n",
       "    <tr>\n",
       "      <th>1889</th>\n",
       "      <td>6</td>\n",
       "      <td>1</td>\n",
       "      <td>5</td>\n",
       "      <td>0</td>\n",
       "      <td>0.50</td>\n",
       "      <td>15</td>\n",
       "      <td>20</td>\n",
       "      <td>20</td>\n",
       "      <td>26</td>\n",
       "      <td>70</td>\n",
       "    </tr>\n",
       "    <tr>\n",
       "      <th>1890</th>\n",
       "      <td>6</td>\n",
       "      <td>1</td>\n",
       "      <td>5</td>\n",
       "      <td>0</td>\n",
       "      <td>0.75</td>\n",
       "      <td>14</td>\n",
       "      <td>19</td>\n",
       "      <td>20</td>\n",
       "      <td>26</td>\n",
       "      <td>71</td>\n",
       "    </tr>\n",
       "    <tr>\n",
       "      <th>1891</th>\n",
       "      <td>6</td>\n",
       "      <td>1</td>\n",
       "      <td>5</td>\n",
       "      <td>1</td>\n",
       "      <td>1.00</td>\n",
       "      <td>12</td>\n",
       "      <td>15</td>\n",
       "      <td>15</td>\n",
       "      <td>26</td>\n",
       "      <td>71</td>\n",
       "    </tr>\n",
       "  </tbody>\n",
       "</table>\n",
       "</div>"
      ],
      "text/plain": [
       "      month  day  weekday  hour  hour_minute  pm1.0  pm2.5  pm10.0  temp  \\\n",
       "1887      6    1        5     0         0.00     11     14      17    26   \n",
       "1888      6    1        5     0         0.25     11     14      17    26   \n",
       "1889      6    1        5     0         0.50     15     20      20    26   \n",
       "1890      6    1        5     0         0.75     14     19      20    26   \n",
       "1891      6    1        5     1         1.00     12     15      15    26   \n",
       "\n",
       "      humidity  \n",
       "1887        70  \n",
       "1888        70  \n",
       "1889        70  \n",
       "1890        71  \n",
       "1891        71  "
      ]
     },
     "execution_count": 12,
     "metadata": {},
     "output_type": "execute_result"
    }
   ],
   "source": [
    "df3.head()"
   ]
  },
  {
   "cell_type": "code",
   "execution_count": 13,
   "metadata": {},
   "outputs": [],
   "source": [
    "# Evaluate mean values for each hour\n",
    "df3mean = df3.groupby(['month', 'day', 'hour']).mean()"
   ]
  },
  {
   "cell_type": "code",
   "execution_count": 14,
   "metadata": {},
   "outputs": [
    {
     "data": {
      "text/html": [
       "<div>\n",
       "<style scoped>\n",
       "    .dataframe tbody tr th:only-of-type {\n",
       "        vertical-align: middle;\n",
       "    }\n",
       "\n",
       "    .dataframe tbody tr th {\n",
       "        vertical-align: top;\n",
       "    }\n",
       "\n",
       "    .dataframe thead th {\n",
       "        text-align: right;\n",
       "    }\n",
       "</style>\n",
       "<table border=\"1\" class=\"dataframe\">\n",
       "  <thead>\n",
       "    <tr style=\"text-align: right;\">\n",
       "      <th></th>\n",
       "      <th></th>\n",
       "      <th></th>\n",
       "      <th>weekday</th>\n",
       "      <th>hour_minute</th>\n",
       "      <th>pm1.0</th>\n",
       "      <th>pm2.5</th>\n",
       "      <th>pm10.0</th>\n",
       "      <th>temp</th>\n",
       "      <th>humidity</th>\n",
       "    </tr>\n",
       "    <tr>\n",
       "      <th>month</th>\n",
       "      <th>day</th>\n",
       "      <th>hour</th>\n",
       "      <th></th>\n",
       "      <th></th>\n",
       "      <th></th>\n",
       "      <th></th>\n",
       "      <th></th>\n",
       "      <th></th>\n",
       "      <th></th>\n",
       "    </tr>\n",
       "  </thead>\n",
       "  <tbody>\n",
       "    <tr>\n",
       "      <th rowspan=\"10\" valign=\"top\">6</th>\n",
       "      <th rowspan=\"10\" valign=\"top\">1</th>\n",
       "      <th>0</th>\n",
       "      <td>5.0</td>\n",
       "      <td>0.375000</td>\n",
       "      <td>12.750000</td>\n",
       "      <td>16.750000</td>\n",
       "      <td>18.500000</td>\n",
       "      <td>26.000000</td>\n",
       "      <td>70.250000</td>\n",
       "    </tr>\n",
       "    <tr>\n",
       "      <th>1</th>\n",
       "      <td>5.0</td>\n",
       "      <td>1.375000</td>\n",
       "      <td>15.000000</td>\n",
       "      <td>20.750000</td>\n",
       "      <td>21.750000</td>\n",
       "      <td>26.000000</td>\n",
       "      <td>71.250000</td>\n",
       "    </tr>\n",
       "    <tr>\n",
       "      <th>2</th>\n",
       "      <td>5.0</td>\n",
       "      <td>2.496667</td>\n",
       "      <td>14.000000</td>\n",
       "      <td>19.800000</td>\n",
       "      <td>21.000000</td>\n",
       "      <td>26.000000</td>\n",
       "      <td>71.000000</td>\n",
       "    </tr>\n",
       "    <tr>\n",
       "      <th>3</th>\n",
       "      <td>5.0</td>\n",
       "      <td>3.483333</td>\n",
       "      <td>14.000000</td>\n",
       "      <td>20.333333</td>\n",
       "      <td>21.666667</td>\n",
       "      <td>25.666667</td>\n",
       "      <td>75.666667</td>\n",
       "    </tr>\n",
       "    <tr>\n",
       "      <th>4</th>\n",
       "      <td>5.0</td>\n",
       "      <td>4.733333</td>\n",
       "      <td>20.333333</td>\n",
       "      <td>29.666667</td>\n",
       "      <td>31.333333</td>\n",
       "      <td>24.000000</td>\n",
       "      <td>91.666667</td>\n",
       "    </tr>\n",
       "    <tr>\n",
       "      <th>5</th>\n",
       "      <td>5.0</td>\n",
       "      <td>5.608333</td>\n",
       "      <td>16.500000</td>\n",
       "      <td>25.000000</td>\n",
       "      <td>26.250000</td>\n",
       "      <td>24.000000</td>\n",
       "      <td>88.500000</td>\n",
       "    </tr>\n",
       "    <tr>\n",
       "      <th>6</th>\n",
       "      <td>5.0</td>\n",
       "      <td>6.608333</td>\n",
       "      <td>13.000000</td>\n",
       "      <td>18.750000</td>\n",
       "      <td>20.000000</td>\n",
       "      <td>25.000000</td>\n",
       "      <td>84.000000</td>\n",
       "    </tr>\n",
       "    <tr>\n",
       "      <th>7</th>\n",
       "      <td>5.0</td>\n",
       "      <td>7.608333</td>\n",
       "      <td>12.500000</td>\n",
       "      <td>18.000000</td>\n",
       "      <td>19.250000</td>\n",
       "      <td>26.750000</td>\n",
       "      <td>76.750000</td>\n",
       "    </tr>\n",
       "    <tr>\n",
       "      <th>8</th>\n",
       "      <td>5.0</td>\n",
       "      <td>8.608333</td>\n",
       "      <td>9.000000</td>\n",
       "      <td>12.750000</td>\n",
       "      <td>14.500000</td>\n",
       "      <td>29.000000</td>\n",
       "      <td>67.250000</td>\n",
       "    </tr>\n",
       "    <tr>\n",
       "      <th>9</th>\n",
       "      <td>5.0</td>\n",
       "      <td>9.608333</td>\n",
       "      <td>6.500000</td>\n",
       "      <td>9.500000</td>\n",
       "      <td>10.500000</td>\n",
       "      <td>29.000000</td>\n",
       "      <td>63.500000</td>\n",
       "    </tr>\n",
       "  </tbody>\n",
       "</table>\n",
       "</div>"
      ],
      "text/plain": [
       "                weekday  hour_minute      pm1.0      pm2.5     pm10.0  \\\n",
       "month day hour                                                          \n",
       "6     1   0         5.0     0.375000  12.750000  16.750000  18.500000   \n",
       "          1         5.0     1.375000  15.000000  20.750000  21.750000   \n",
       "          2         5.0     2.496667  14.000000  19.800000  21.000000   \n",
       "          3         5.0     3.483333  14.000000  20.333333  21.666667   \n",
       "          4         5.0     4.733333  20.333333  29.666667  31.333333   \n",
       "          5         5.0     5.608333  16.500000  25.000000  26.250000   \n",
       "          6         5.0     6.608333  13.000000  18.750000  20.000000   \n",
       "          7         5.0     7.608333  12.500000  18.000000  19.250000   \n",
       "          8         5.0     8.608333   9.000000  12.750000  14.500000   \n",
       "          9         5.0     9.608333   6.500000   9.500000  10.500000   \n",
       "\n",
       "                     temp   humidity  \n",
       "month day hour                        \n",
       "6     1   0     26.000000  70.250000  \n",
       "          1     26.000000  71.250000  \n",
       "          2     26.000000  71.000000  \n",
       "          3     25.666667  75.666667  \n",
       "          4     24.000000  91.666667  \n",
       "          5     24.000000  88.500000  \n",
       "          6     25.000000  84.000000  \n",
       "          7     26.750000  76.750000  \n",
       "          8     29.000000  67.250000  \n",
       "          9     29.000000  63.500000  "
      ]
     },
     "execution_count": 14,
     "metadata": {},
     "output_type": "execute_result"
    }
   ],
   "source": [
    "df3mean.head(10)"
   ]
  },
  {
   "cell_type": "code",
   "execution_count": 15,
   "metadata": {},
   "outputs": [],
   "source": [
    "df3mean.reset_index(inplace=True)"
   ]
  },
  {
   "cell_type": "code",
   "execution_count": 16,
   "metadata": {},
   "outputs": [
    {
     "data": {
      "text/html": [
       "<div>\n",
       "<style scoped>\n",
       "    .dataframe tbody tr th:only-of-type {\n",
       "        vertical-align: middle;\n",
       "    }\n",
       "\n",
       "    .dataframe tbody tr th {\n",
       "        vertical-align: top;\n",
       "    }\n",
       "\n",
       "    .dataframe thead th {\n",
       "        text-align: right;\n",
       "    }\n",
       "</style>\n",
       "<table border=\"1\" class=\"dataframe\">\n",
       "  <thead>\n",
       "    <tr style=\"text-align: right;\">\n",
       "      <th></th>\n",
       "      <th>month</th>\n",
       "      <th>day</th>\n",
       "      <th>hour</th>\n",
       "      <th>weekday</th>\n",
       "      <th>hour_minute</th>\n",
       "      <th>pm1.0</th>\n",
       "      <th>pm2.5</th>\n",
       "      <th>pm10.0</th>\n",
       "      <th>temp</th>\n",
       "      <th>humidity</th>\n",
       "    </tr>\n",
       "  </thead>\n",
       "  <tbody>\n",
       "    <tr>\n",
       "      <th>0</th>\n",
       "      <td>6</td>\n",
       "      <td>1</td>\n",
       "      <td>0</td>\n",
       "      <td>5.0</td>\n",
       "      <td>0.375000</td>\n",
       "      <td>12.750000</td>\n",
       "      <td>16.750000</td>\n",
       "      <td>18.500000</td>\n",
       "      <td>26.000000</td>\n",
       "      <td>70.250000</td>\n",
       "    </tr>\n",
       "    <tr>\n",
       "      <th>1</th>\n",
       "      <td>6</td>\n",
       "      <td>1</td>\n",
       "      <td>1</td>\n",
       "      <td>5.0</td>\n",
       "      <td>1.375000</td>\n",
       "      <td>15.000000</td>\n",
       "      <td>20.750000</td>\n",
       "      <td>21.750000</td>\n",
       "      <td>26.000000</td>\n",
       "      <td>71.250000</td>\n",
       "    </tr>\n",
       "    <tr>\n",
       "      <th>2</th>\n",
       "      <td>6</td>\n",
       "      <td>1</td>\n",
       "      <td>2</td>\n",
       "      <td>5.0</td>\n",
       "      <td>2.496667</td>\n",
       "      <td>14.000000</td>\n",
       "      <td>19.800000</td>\n",
       "      <td>21.000000</td>\n",
       "      <td>26.000000</td>\n",
       "      <td>71.000000</td>\n",
       "    </tr>\n",
       "    <tr>\n",
       "      <th>3</th>\n",
       "      <td>6</td>\n",
       "      <td>1</td>\n",
       "      <td>3</td>\n",
       "      <td>5.0</td>\n",
       "      <td>3.483333</td>\n",
       "      <td>14.000000</td>\n",
       "      <td>20.333333</td>\n",
       "      <td>21.666667</td>\n",
       "      <td>25.666667</td>\n",
       "      <td>75.666667</td>\n",
       "    </tr>\n",
       "    <tr>\n",
       "      <th>4</th>\n",
       "      <td>6</td>\n",
       "      <td>1</td>\n",
       "      <td>4</td>\n",
       "      <td>5.0</td>\n",
       "      <td>4.733333</td>\n",
       "      <td>20.333333</td>\n",
       "      <td>29.666667</td>\n",
       "      <td>31.333333</td>\n",
       "      <td>24.000000</td>\n",
       "      <td>91.666667</td>\n",
       "    </tr>\n",
       "  </tbody>\n",
       "</table>\n",
       "</div>"
      ],
      "text/plain": [
       "   month  day  hour  weekday  hour_minute      pm1.0      pm2.5     pm10.0  \\\n",
       "0      6    1     0      5.0     0.375000  12.750000  16.750000  18.500000   \n",
       "1      6    1     1      5.0     1.375000  15.000000  20.750000  21.750000   \n",
       "2      6    1     2      5.0     2.496667  14.000000  19.800000  21.000000   \n",
       "3      6    1     3      5.0     3.483333  14.000000  20.333333  21.666667   \n",
       "4      6    1     4      5.0     4.733333  20.333333  29.666667  31.333333   \n",
       "\n",
       "        temp   humidity  \n",
       "0  26.000000  70.250000  \n",
       "1  26.000000  71.250000  \n",
       "2  26.000000  71.000000  \n",
       "3  25.666667  75.666667  \n",
       "4  24.000000  91.666667  "
      ]
     },
     "execution_count": 16,
     "metadata": {},
     "output_type": "execute_result"
    }
   ],
   "source": [
    "df3mean.head()"
   ]
  },
  {
   "cell_type": "code",
   "execution_count": 17,
   "metadata": {},
   "outputs": [],
   "source": [
    "# Reconstruct time infomation by `month`, `day`, and `hour`\n",
    "\n",
    "def get_time(x):\n",
    "    time_str = '2019 %d %d %d' % (x[0], x[1], x[2])\n",
    "    taipei_tz = pytz.timezone('Asia/Taipei')\n",
    "    time = dt.datetime.strptime(time_str, '%Y %m %d %H').replace(tzinfo=taipei_tz)\n",
    "    return time\n",
    "\n",
    "df3mean['time'] = df3mean[['month', 'day', 'hour']].apply(get_time, axis=1)"
   ]
  },
  {
   "cell_type": "code",
   "execution_count": 18,
   "metadata": {},
   "outputs": [
    {
     "data": {
      "text/html": [
       "<div>\n",
       "<style scoped>\n",
       "    .dataframe tbody tr th:only-of-type {\n",
       "        vertical-align: middle;\n",
       "    }\n",
       "\n",
       "    .dataframe tbody tr th {\n",
       "        vertical-align: top;\n",
       "    }\n",
       "\n",
       "    .dataframe thead th {\n",
       "        text-align: right;\n",
       "    }\n",
       "</style>\n",
       "<table border=\"1\" class=\"dataframe\">\n",
       "  <thead>\n",
       "    <tr style=\"text-align: right;\">\n",
       "      <th></th>\n",
       "      <th>month</th>\n",
       "      <th>day</th>\n",
       "      <th>hour</th>\n",
       "      <th>weekday</th>\n",
       "      <th>hour_minute</th>\n",
       "      <th>pm1.0</th>\n",
       "      <th>pm2.5</th>\n",
       "      <th>pm10.0</th>\n",
       "      <th>temp</th>\n",
       "      <th>humidity</th>\n",
       "      <th>time</th>\n",
       "    </tr>\n",
       "  </thead>\n",
       "  <tbody>\n",
       "    <tr>\n",
       "      <th>0</th>\n",
       "      <td>6</td>\n",
       "      <td>1</td>\n",
       "      <td>0</td>\n",
       "      <td>5.0</td>\n",
       "      <td>0.375000</td>\n",
       "      <td>12.750000</td>\n",
       "      <td>16.750000</td>\n",
       "      <td>18.500000</td>\n",
       "      <td>26.000000</td>\n",
       "      <td>70.250000</td>\n",
       "      <td>2019-05-31 23:54:00+08:00</td>\n",
       "    </tr>\n",
       "    <tr>\n",
       "      <th>1</th>\n",
       "      <td>6</td>\n",
       "      <td>1</td>\n",
       "      <td>1</td>\n",
       "      <td>5.0</td>\n",
       "      <td>1.375000</td>\n",
       "      <td>15.000000</td>\n",
       "      <td>20.750000</td>\n",
       "      <td>21.750000</td>\n",
       "      <td>26.000000</td>\n",
       "      <td>71.250000</td>\n",
       "      <td>2019-06-01 00:54:00+08:00</td>\n",
       "    </tr>\n",
       "    <tr>\n",
       "      <th>2</th>\n",
       "      <td>6</td>\n",
       "      <td>1</td>\n",
       "      <td>2</td>\n",
       "      <td>5.0</td>\n",
       "      <td>2.496667</td>\n",
       "      <td>14.000000</td>\n",
       "      <td>19.800000</td>\n",
       "      <td>21.000000</td>\n",
       "      <td>26.000000</td>\n",
       "      <td>71.000000</td>\n",
       "      <td>2019-06-01 01:54:00+08:00</td>\n",
       "    </tr>\n",
       "    <tr>\n",
       "      <th>3</th>\n",
       "      <td>6</td>\n",
       "      <td>1</td>\n",
       "      <td>3</td>\n",
       "      <td>5.0</td>\n",
       "      <td>3.483333</td>\n",
       "      <td>14.000000</td>\n",
       "      <td>20.333333</td>\n",
       "      <td>21.666667</td>\n",
       "      <td>25.666667</td>\n",
       "      <td>75.666667</td>\n",
       "      <td>2019-06-01 02:54:00+08:00</td>\n",
       "    </tr>\n",
       "    <tr>\n",
       "      <th>4</th>\n",
       "      <td>6</td>\n",
       "      <td>1</td>\n",
       "      <td>4</td>\n",
       "      <td>5.0</td>\n",
       "      <td>4.733333</td>\n",
       "      <td>20.333333</td>\n",
       "      <td>29.666667</td>\n",
       "      <td>31.333333</td>\n",
       "      <td>24.000000</td>\n",
       "      <td>91.666667</td>\n",
       "      <td>2019-06-01 03:54:00+08:00</td>\n",
       "    </tr>\n",
       "  </tbody>\n",
       "</table>\n",
       "</div>"
      ],
      "text/plain": [
       "   month  day  hour  weekday  hour_minute      pm1.0      pm2.5     pm10.0  \\\n",
       "0      6    1     0      5.0     0.375000  12.750000  16.750000  18.500000   \n",
       "1      6    1     1      5.0     1.375000  15.000000  20.750000  21.750000   \n",
       "2      6    1     2      5.0     2.496667  14.000000  19.800000  21.000000   \n",
       "3      6    1     3      5.0     3.483333  14.000000  20.333333  21.666667   \n",
       "4      6    1     4      5.0     4.733333  20.333333  29.666667  31.333333   \n",
       "\n",
       "        temp   humidity                      time  \n",
       "0  26.000000  70.250000 2019-05-31 23:54:00+08:00  \n",
       "1  26.000000  71.250000 2019-06-01 00:54:00+08:00  \n",
       "2  26.000000  71.000000 2019-06-01 01:54:00+08:00  \n",
       "3  25.666667  75.666667 2019-06-01 02:54:00+08:00  \n",
       "4  24.000000  91.666667 2019-06-01 03:54:00+08:00  "
      ]
     },
     "execution_count": 18,
     "metadata": {},
     "output_type": "execute_result"
    }
   ],
   "source": [
    "df3mean.head()"
   ]
  },
  {
   "cell_type": "code",
   "execution_count": 19,
   "metadata": {
    "scrolled": false
   },
   "outputs": [
    {
     "data": {
      "text/plain": [
       "<matplotlib.collections.PathCollection at 0x101639860>"
      ]
     },
     "execution_count": 19,
     "metadata": {},
     "output_type": "execute_result"
    },
    {
     "data": {
      "image/png": "[encoded data removed]",
      "text/plain": [
       "<Figure size 864x504 with 1 Axes>"
      ]
     },
     "metadata": {
      "needs_background": "light"
     },
     "output_type": "display_data"
    }
   ],
   "source": [
    "# Add explicitly converter\n",
    "pd.plotting.register_matplotlib_converters()\n",
    "# Plt\n",
    "plt.figure(figsize=(12, 7))\n",
    "plt.scatter(df3mean['time'], df3mean['pm2.5'])"
   ]
  },
  {
   "cell_type": "code",
   "execution_count": 20,
   "metadata": {},
   "outputs": [],
   "source": [
    "df3mean[['pm2.5_shift-1']] = df3mean[['pm2.5']].shift(-1)"
   ]
  },
  {
   "cell_type": "code",
   "execution_count": 21,
   "metadata": {},
   "outputs": [],
   "source": [
    "df3mean[['time_shift-1']] = df3mean[['time']].shift(-1)"
   ]
  },
  {
   "cell_type": "code",
   "execution_count": 22,
   "metadata": {
    "scrolled": true
   },
   "outputs": [
    {
     "data": {
      "text/html": [
       "<div>\n",
       "<style scoped>\n",
       "    .dataframe tbody tr th:only-of-type {\n",
       "        vertical-align: middle;\n",
       "    }\n",
       "\n",
       "    .dataframe tbody tr th {\n",
       "        vertical-align: top;\n",
       "    }\n",
       "\n",
       "    .dataframe thead th {\n",
       "        text-align: right;\n",
       "    }\n",
       "</style>\n",
       "<table border=\"1\" class=\"dataframe\">\n",
       "  <thead>\n",
       "    <tr style=\"text-align: right;\">\n",
       "      <th></th>\n",
       "      <th>month</th>\n",
       "      <th>day</th>\n",
       "      <th>hour</th>\n",
       "      <th>weekday</th>\n",
       "      <th>hour_minute</th>\n",
       "      <th>pm1.0</th>\n",
       "      <th>pm2.5</th>\n",
       "      <th>pm10.0</th>\n",
       "      <th>temp</th>\n",
       "      <th>humidity</th>\n",
       "      <th>time</th>\n",
       "      <th>pm2.5_shift-1</th>\n",
       "      <th>time_shift-1</th>\n",
       "    </tr>\n",
       "  </thead>\n",
       "  <tbody>\n",
       "    <tr>\n",
       "      <th>0</th>\n",
       "      <td>6</td>\n",
       "      <td>1</td>\n",
       "      <td>0</td>\n",
       "      <td>5.0</td>\n",
       "      <td>0.375000</td>\n",
       "      <td>12.750000</td>\n",
       "      <td>16.750000</td>\n",
       "      <td>18.500000</td>\n",
       "      <td>26.000000</td>\n",
       "      <td>70.250000</td>\n",
       "      <td>2019-05-31 23:54:00+08:00</td>\n",
       "      <td>20.750000</td>\n",
       "      <td>2019-06-01 00:54:00+08:00</td>\n",
       "    </tr>\n",
       "    <tr>\n",
       "      <th>1</th>\n",
       "      <td>6</td>\n",
       "      <td>1</td>\n",
       "      <td>1</td>\n",
       "      <td>5.0</td>\n",
       "      <td>1.375000</td>\n",
       "      <td>15.000000</td>\n",
       "      <td>20.750000</td>\n",
       "      <td>21.750000</td>\n",
       "      <td>26.000000</td>\n",
       "      <td>71.250000</td>\n",
       "      <td>2019-06-01 00:54:00+08:00</td>\n",
       "      <td>19.800000</td>\n",
       "      <td>2019-06-01 01:54:00+08:00</td>\n",
       "    </tr>\n",
       "    <tr>\n",
       "      <th>2</th>\n",
       "      <td>6</td>\n",
       "      <td>1</td>\n",
       "      <td>2</td>\n",
       "      <td>5.0</td>\n",
       "      <td>2.496667</td>\n",
       "      <td>14.000000</td>\n",
       "      <td>19.800000</td>\n",
       "      <td>21.000000</td>\n",
       "      <td>26.000000</td>\n",
       "      <td>71.000000</td>\n",
       "      <td>2019-06-01 01:54:00+08:00</td>\n",
       "      <td>20.333333</td>\n",
       "      <td>2019-06-01 02:54:00+08:00</td>\n",
       "    </tr>\n",
       "    <tr>\n",
       "      <th>3</th>\n",
       "      <td>6</td>\n",
       "      <td>1</td>\n",
       "      <td>3</td>\n",
       "      <td>5.0</td>\n",
       "      <td>3.483333</td>\n",
       "      <td>14.000000</td>\n",
       "      <td>20.333333</td>\n",
       "      <td>21.666667</td>\n",
       "      <td>25.666667</td>\n",
       "      <td>75.666667</td>\n",
       "      <td>2019-06-01 02:54:00+08:00</td>\n",
       "      <td>29.666667</td>\n",
       "      <td>2019-06-01 03:54:00+08:00</td>\n",
       "    </tr>\n",
       "    <tr>\n",
       "      <th>4</th>\n",
       "      <td>6</td>\n",
       "      <td>1</td>\n",
       "      <td>4</td>\n",
       "      <td>5.0</td>\n",
       "      <td>4.733333</td>\n",
       "      <td>20.333333</td>\n",
       "      <td>29.666667</td>\n",
       "      <td>31.333333</td>\n",
       "      <td>24.000000</td>\n",
       "      <td>91.666667</td>\n",
       "      <td>2019-06-01 03:54:00+08:00</td>\n",
       "      <td>25.000000</td>\n",
       "      <td>2019-06-01 04:54:00+08:00</td>\n",
       "    </tr>\n",
       "  </tbody>\n",
       "</table>\n",
       "</div>"
      ],
      "text/plain": [
       "   month  day  hour  weekday  hour_minute      pm1.0      pm2.5     pm10.0  \\\n",
       "0      6    1     0      5.0     0.375000  12.750000  16.750000  18.500000   \n",
       "1      6    1     1      5.0     1.375000  15.000000  20.750000  21.750000   \n",
       "2      6    1     2      5.0     2.496667  14.000000  19.800000  21.000000   \n",
       "3      6    1     3      5.0     3.483333  14.000000  20.333333  21.666667   \n",
       "4      6    1     4      5.0     4.733333  20.333333  29.666667  31.333333   \n",
       "\n",
       "        temp   humidity                      time  pm2.5_shift-1  \\\n",
       "0  26.000000  70.250000 2019-05-31 23:54:00+08:00      20.750000   \n",
       "1  26.000000  71.250000 2019-06-01 00:54:00+08:00      19.800000   \n",
       "2  26.000000  71.000000 2019-06-01 01:54:00+08:00      20.333333   \n",
       "3  25.666667  75.666667 2019-06-01 02:54:00+08:00      29.666667   \n",
       "4  24.000000  91.666667 2019-06-01 03:54:00+08:00      25.000000   \n",
       "\n",
       "               time_shift-1  \n",
       "0 2019-06-01 00:54:00+08:00  \n",
       "1 2019-06-01 01:54:00+08:00  \n",
       "2 2019-06-01 02:54:00+08:00  \n",
       "3 2019-06-01 03:54:00+08:00  \n",
       "4 2019-06-01 04:54:00+08:00  "
      ]
     },
     "execution_count": 22,
     "metadata": {},
     "output_type": "execute_result"
    }
   ],
   "source": [
    "df3mean.head()"
   ]
  },
  {
   "cell_type": "code",
   "execution_count": 23,
   "metadata": {},
   "outputs": [],
   "source": [
    "# check the next row is the next hour or not. \n",
    "# If it is not, the `pm2.5_next_hour` column will be given NaN.\n",
    "\n",
    "def check_next_hour(x):\n",
    "    one_hour = dt.timedelta(hours=1)\n",
    "    if x[2] - x[1] == one_hour:\n",
    "        return x[0]\n",
    "    return np.nan\n",
    "\n",
    "df3mean['pm2.5_next_hour'] = df3mean[['pm2.5_shift-1', 'time', 'time_shift-1']].apply(check_next_hour, axis=1)"
   ]
  },
  {
   "cell_type": "code",
   "execution_count": 24,
   "metadata": {
    "scrolled": true
   },
   "outputs": [
    {
     "data": {
      "text/html": [
       "<div>\n",
       "<style scoped>\n",
       "    .dataframe tbody tr th:only-of-type {\n",
       "        vertical-align: middle;\n",
       "    }\n",
       "\n",
       "    .dataframe tbody tr th {\n",
       "        vertical-align: top;\n",
       "    }\n",
       "\n",
       "    .dataframe thead th {\n",
       "        text-align: right;\n",
       "    }\n",
       "</style>\n",
       "<table border=\"1\" class=\"dataframe\">\n",
       "  <thead>\n",
       "    <tr style=\"text-align: right;\">\n",
       "      <th></th>\n",
       "      <th>month</th>\n",
       "      <th>day</th>\n",
       "      <th>hour</th>\n",
       "      <th>weekday</th>\n",
       "      <th>hour_minute</th>\n",
       "      <th>pm1.0</th>\n",
       "      <th>pm2.5</th>\n",
       "      <th>pm10.0</th>\n",
       "      <th>temp</th>\n",
       "      <th>humidity</th>\n",
       "      <th>time</th>\n",
       "      <th>pm2.5_shift-1</th>\n",
       "      <th>time_shift-1</th>\n",
       "      <th>pm2.5_next_hour</th>\n",
       "    </tr>\n",
       "  </thead>\n",
       "  <tbody>\n",
       "    <tr>\n",
       "      <th>0</th>\n",
       "      <td>6</td>\n",
       "      <td>1</td>\n",
       "      <td>0</td>\n",
       "      <td>5.0</td>\n",
       "      <td>0.375000</td>\n",
       "      <td>12.750000</td>\n",
       "      <td>16.750000</td>\n",
       "      <td>18.500000</td>\n",
       "      <td>26.000000</td>\n",
       "      <td>70.250000</td>\n",
       "      <td>2019-05-31 23:54:00+08:00</td>\n",
       "      <td>20.750000</td>\n",
       "      <td>2019-06-01 00:54:00+08:00</td>\n",
       "      <td>20.750000</td>\n",
       "    </tr>\n",
       "    <tr>\n",
       "      <th>1</th>\n",
       "      <td>6</td>\n",
       "      <td>1</td>\n",
       "      <td>1</td>\n",
       "      <td>5.0</td>\n",
       "      <td>1.375000</td>\n",
       "      <td>15.000000</td>\n",
       "      <td>20.750000</td>\n",
       "      <td>21.750000</td>\n",
       "      <td>26.000000</td>\n",
       "      <td>71.250000</td>\n",
       "      <td>2019-06-01 00:54:00+08:00</td>\n",
       "      <td>19.800000</td>\n",
       "      <td>2019-06-01 01:54:00+08:00</td>\n",
       "      <td>19.800000</td>\n",
       "    </tr>\n",
       "    <tr>\n",
       "      <th>2</th>\n",
       "      <td>6</td>\n",
       "      <td>1</td>\n",
       "      <td>2</td>\n",
       "      <td>5.0</td>\n",
       "      <td>2.496667</td>\n",
       "      <td>14.000000</td>\n",
       "      <td>19.800000</td>\n",
       "      <td>21.000000</td>\n",
       "      <td>26.000000</td>\n",
       "      <td>71.000000</td>\n",
       "      <td>2019-06-01 01:54:00+08:00</td>\n",
       "      <td>20.333333</td>\n",
       "      <td>2019-06-01 02:54:00+08:00</td>\n",
       "      <td>20.333333</td>\n",
       "    </tr>\n",
       "    <tr>\n",
       "      <th>3</th>\n",
       "      <td>6</td>\n",
       "      <td>1</td>\n",
       "      <td>3</td>\n",
       "      <td>5.0</td>\n",
       "      <td>3.483333</td>\n",
       "      <td>14.000000</td>\n",
       "      <td>20.333333</td>\n",
       "      <td>21.666667</td>\n",
       "      <td>25.666667</td>\n",
       "      <td>75.666667</td>\n",
       "      <td>2019-06-01 02:54:00+08:00</td>\n",
       "      <td>29.666667</td>\n",
       "      <td>2019-06-01 03:54:00+08:00</td>\n",
       "      <td>29.666667</td>\n",
       "    </tr>\n",
       "    <tr>\n",
       "      <th>4</th>\n",
       "      <td>6</td>\n",
       "      <td>1</td>\n",
       "      <td>4</td>\n",
       "      <td>5.0</td>\n",
       "      <td>4.733333</td>\n",
       "      <td>20.333333</td>\n",
       "      <td>29.666667</td>\n",
       "      <td>31.333333</td>\n",
       "      <td>24.000000</td>\n",
       "      <td>91.666667</td>\n",
       "      <td>2019-06-01 03:54:00+08:00</td>\n",
       "      <td>25.000000</td>\n",
       "      <td>2019-06-01 04:54:00+08:00</td>\n",
       "      <td>25.000000</td>\n",
       "    </tr>\n",
       "  </tbody>\n",
       "</table>\n",
       "</div>"
      ],
      "text/plain": [
       "   month  day  hour  weekday  hour_minute      pm1.0      pm2.5     pm10.0  \\\n",
       "0      6    1     0      5.0     0.375000  12.750000  16.750000  18.500000   \n",
       "1      6    1     1      5.0     1.375000  15.000000  20.750000  21.750000   \n",
       "2      6    1     2      5.0     2.496667  14.000000  19.800000  21.000000   \n",
       "3      6    1     3      5.0     3.483333  14.000000  20.333333  21.666667   \n",
       "4      6    1     4      5.0     4.733333  20.333333  29.666667  31.333333   \n",
       "\n",
       "        temp   humidity                      time  pm2.5_shift-1  \\\n",
       "0  26.000000  70.250000 2019-05-31 23:54:00+08:00      20.750000   \n",
       "1  26.000000  71.250000 2019-06-01 00:54:00+08:00      19.800000   \n",
       "2  26.000000  71.000000 2019-06-01 01:54:00+08:00      20.333333   \n",
       "3  25.666667  75.666667 2019-06-01 02:54:00+08:00      29.666667   \n",
       "4  24.000000  91.666667 2019-06-01 03:54:00+08:00      25.000000   \n",
       "\n",
       "               time_shift-1  pm2.5_next_hour  \n",
       "0 2019-06-01 00:54:00+08:00        20.750000  \n",
       "1 2019-06-01 01:54:00+08:00        19.800000  \n",
       "2 2019-06-01 02:54:00+08:00        20.333333  \n",
       "3 2019-06-01 03:54:00+08:00        29.666667  \n",
       "4 2019-06-01 04:54:00+08:00        25.000000  "
      ]
     },
     "execution_count": 24,
     "metadata": {},
     "output_type": "execute_result"
    }
   ],
   "source": [
    "df3mean.head()"
   ]
  },
  {
   "cell_type": "code",
   "execution_count": 25,
   "metadata": {},
   "outputs": [
    {
     "data": {
      "text/plain": [
       "month               0\n",
       "day                 0\n",
       "hour                0\n",
       "weekday             0\n",
       "hour_minute         0\n",
       "pm1.0               0\n",
       "pm2.5               0\n",
       "pm10.0              0\n",
       "temp                0\n",
       "humidity            0\n",
       "time                0\n",
       "pm2.5_shift-1       1\n",
       "time_shift-1        1\n",
       "pm2.5_next_hour    10\n",
       "dtype: int64"
      ]
     },
     "execution_count": 25,
     "metadata": {},
     "output_type": "execute_result"
    }
   ],
   "source": [
    "df3mean.isna().sum()"
   ]
  },
  {
   "cell_type": "code",
   "execution_count": 26,
   "metadata": {},
   "outputs": [],
   "source": [
    "# Discard rows that contain NaN value\n",
    "df3mean.dropna(inplace=True)"
   ]
  },
  {
   "cell_type": "code",
   "execution_count": 27,
   "metadata": {},
   "outputs": [
    {
     "data": {
      "text/plain": [
       "month              0\n",
       "day                0\n",
       "hour               0\n",
       "weekday            0\n",
       "hour_minute        0\n",
       "pm1.0              0\n",
       "pm2.5              0\n",
       "pm10.0             0\n",
       "temp               0\n",
       "humidity           0\n",
       "time               0\n",
       "pm2.5_shift-1      0\n",
       "time_shift-1       0\n",
       "pm2.5_next_hour    0\n",
       "dtype: int64"
      ]
     },
     "execution_count": 27,
     "metadata": {},
     "output_type": "execute_result"
    }
   ],
   "source": [
    "df3mean.isna().sum()"
   ]
  },
  {
   "cell_type": "markdown",
   "metadata": {},
   "source": [
    "### Normalization\n",
    "\n",
    "$z = \\frac{x- \\mu}{\\sigma}$\n"
   ]
  },
  {
   "cell_type": "code",
   "execution_count": 28,
   "metadata": {},
   "outputs": [],
   "source": [
    "# Save time infomation in another df, and discard it\n",
    "df3mean_time = df3mean['time_shift-1']\n",
    "df3mean.drop(columns=['time', 'time_shift-1'], axis=0, inplace=True)\n",
    "# Normalization\n",
    "df3mean = (df3mean - df3mean.mean()) / df3mean.std()"
   ]
  },
  {
   "cell_type": "markdown",
   "metadata": {},
   "source": [
    "### Divid training set and test set"
   ]
  },
  {
   "cell_type": "code",
   "execution_count": 29,
   "metadata": {},
   "outputs": [],
   "source": [
    "four_fifth_len = len(df3mean)*0.8\n",
    "four_fifth_len = int(four_fifth_len)"
   ]
  },
  {
   "cell_type": "code",
   "execution_count": 30,
   "metadata": {},
   "outputs": [],
   "source": [
    "train_df = df3mean[:four_fifth_len]\n",
    "test_df = df3mean[four_fifth_len:]\n",
    "\n",
    "test_df_time = df3mean_time[four_fifth_len:]"
   ]
  },
  {
   "cell_type": "code",
   "execution_count": 31,
   "metadata": {},
   "outputs": [],
   "source": [
    "X = train_df[['month', 'day', 'weekday', 'hour_minute', 'pm1.0', 'pm2.5', 'pm10.0', 'temp', 'humidity']]\n",
    "y = train_df[['pm2.5_next_hour']]"
   ]
  },
  {
   "cell_type": "code",
   "execution_count": 32,
   "metadata": {},
   "outputs": [],
   "source": [
    "test_X = test_df[['month', 'day', 'weekday', 'hour_minute', 'pm1.0', 'pm2.5', 'pm10.0', 'temp', 'humidity']]\n",
    "test_y = test_df[['pm2.5_next_hour']]"
   ]
  },
  {
   "cell_type": "markdown",
   "metadata": {},
   "source": [
    "### Fit the model\n",
    "\n",
    "using `sklearn.linear_model.LinearRegression`"
   ]
  },
  {
   "cell_type": "code",
   "execution_count": 33,
   "metadata": {},
   "outputs": [
    {
     "data": {
      "text/plain": [
       "LinearRegression(copy_X=True, fit_intercept=True, n_jobs=None, normalize=True)"
      ]
     },
     "execution_count": 33,
     "metadata": {},
     "output_type": "execute_result"
    }
   ],
   "source": [
    "# Fit the model\n",
    "model = linear_model.LinearRegression(normalize=True)\n",
    "model.fit(X, y)"
   ]
  },
  {
   "cell_type": "code",
   "execution_count": 34,
   "metadata": {},
   "outputs": [
    {
     "name": "stdout",
     "output_type": "stream",
     "text": [
      "[[ 0.01252273 -0.01518742 -0.00645569  0.0263951   0.08476088  0.73650037\n",
      "   0.09322293 -0.07056569 -0.07112976]]\n",
      "[-0.00548781]\n"
     ]
    }
   ],
   "source": [
    "# See the coefficients of our model\n",
    "a = model.coef_\n",
    "b = model.intercept_\n",
    "print(a)\n",
    "print(b)"
   ]
  },
  {
   "cell_type": "code",
   "execution_count": 35,
   "metadata": {},
   "outputs": [
    {
     "name": "stdout",
     "output_type": "stream",
     "text": [
      "Coefficient for      month:\t0.0125227284744696\n",
      "Coefficient for        day:\t-0.01518741510588546\n",
      "Coefficient for    weekday:\t-0.006455687857015489\n",
      "Coefficient for hour_minute:\t0.026395103856870786\n",
      "Coefficient for      pm1.0:\t0.08476088033934276\n",
      "Coefficient for      pm2.5:\t0.7365003659182927\n",
      "Coefficient for     pm10.0:\t0.09322292601709033\n",
      "Coefficient for       temp:\t-0.07056568900346293\n",
      "Coefficient for   humidity:\t-0.0711297612669089\n"
     ]
    }
   ],
   "source": [
    "for i in range(len(X.columns)):\n",
    "    print('Coefficient for %10s:\\t%s' % (X.columns[i], model.coef_[0][i]))"
   ]
  },
  {
   "cell_type": "code",
   "execution_count": 36,
   "metadata": {},
   "outputs": [
    {
     "name": "stdout",
     "output_type": "stream",
     "text": [
      "Train MSE:\t 0.15932508130110118\n",
      "Test MSE:\t 0.253487989992304\n"
     ]
    }
   ],
   "source": [
    "# Calculate mean squared error for training set & test set\n",
    "predict_train_y = model.predict(X)\n",
    "predict_y = model.predict(test_X)\n",
    "\n",
    "train_mse = metrics.mean_squared_error(y, predict_train_y)\n",
    "test_mse = metrics.mean_squared_error(test_y, predict_y)\n",
    "\n",
    "print('Train MSE:\\t %s' % train_mse)\n",
    "print('Test MSE:\\t %s' % test_mse)"
   ]
  },
  {
   "cell_type": "code",
   "execution_count": 37,
   "metadata": {},
   "outputs": [
    {
     "data": {
      "image/png": "[encoded data removed]",
      "text/plain": [
       "<Figure size 864x504 with 1 Axes>"
      ]
     },
     "metadata": {
      "needs_background": "light"
     },
     "output_type": "display_data"
    }
   ],
   "source": [
    "# Add explicitly converter\n",
    "pd.plotting.register_matplotlib_converters()\n",
    "# Plt\n",
    "plt.figure(figsize=(12, 7))\n",
    "plt.plot(test_df_time, test_df['pm2.5_next_hour'], label='actual values')\n",
    "plt.plot(test_df_time, predict_y, label='predict values')\n",
    "plt.legend()\n",
    "plt.show()"
   ]
  },
  {
   "cell_type": "markdown",
   "metadata": {},
   "source": [
    "### Feature Selection via Ridge Regression\n",
    "\n",
    "~~Our test error is worse than our training error. Therefore, our next job is to improve this.~~\n",
    "\n",
    "Next, we improve mean squared error. \n",
    "\n",
    "We use the class `sklearn.linear_model.Ridge`. We will throw all features in, let ridge regression do selection, and see how our own feature sets compare. Notice we have an additional hyperparameter,  𝛼 . This controls how heavy the penalty is for larger weights.\n",
    "\n",
    "To perform hyperparameter tuning we can use a technique called **cross validation**. We take our test set, randomly divide into  𝑘  training and testing sets. Differnent samples will be randomly placed in each set, each with their own variance. We then average the results over the folds to estimate how well we will do on unseen test data. After splitting the data into  𝑘  folds (10 is a usual choice for  𝑘 ), we will try out different hyperparameter values and select the best one. Much of this process is already wrapped in `sklearn.model_selection.cross_val_score` for us. We just need to define a scoring function.\n"
   ]
  },
  {
   "cell_type": "code",
   "execution_count": 38,
   "metadata": {},
   "outputs": [],
   "source": [
    "# Define a scoring function\n",
    "def scorer(model, X, y):\n",
    "    preds = model.predict(X)\n",
    "    return metrics.mean_squared_error(y, preds)"
   ]
  },
  {
   "cell_type": "code",
   "execution_count": 39,
   "metadata": {},
   "outputs": [],
   "source": [
    "# Define a range of values for alpha to search over.\n",
    "alphas = np.linspace(start=0, stop=0.04, num=11)\n",
    "\n",
    "mses = []\n",
    "for alpha in alphas:\n",
    "    ridge = linear_model.Ridge(alpha=alpha, normalize=True)\n",
    "    mse = model_selection.cross_val_score(ridge, X, y, cv=10, scoring=scorer)\n",
    "    mses.append(mse.mean())"
   ]
  },
  {
   "cell_type": "code",
   "execution_count": 40,
   "metadata": {},
   "outputs": [
    {
     "data": {
      "image/png": "[encoded data removed]",
      "text/plain": [
       "<Figure size 432x288 with 1 Axes>"
      ]
     },
     "metadata": {
      "needs_background": "light"
     },
     "output_type": "display_data"
    }
   ],
   "source": [
    "plt.plot(alphas, mses, marker='.')\n",
    "plt.xlabel('alpha')\n",
    "plt.ylabel('mse')\n",
    "plt.show()"
   ]
  },
  {
   "cell_type": "code",
   "execution_count": 41,
   "metadata": {},
   "outputs": [
    {
     "data": {
      "text/plain": [
       "0.028"
      ]
     },
     "execution_count": 41,
     "metadata": {},
     "output_type": "execute_result"
    }
   ],
   "source": [
    "best_alpha = alphas[np.argmin(mses)]\n",
    "best_alpha"
   ]
  },
  {
   "cell_type": "code",
   "execution_count": 42,
   "metadata": {},
   "outputs": [
    {
     "data": {
      "text/plain": [
       "Ridge(alpha=0.028, copy_X=True, fit_intercept=True, max_iter=None,\n",
       "   normalize=True, random_state=None, solver='auto', tol=0.001)"
      ]
     },
     "execution_count": 42,
     "metadata": {},
     "output_type": "execute_result"
    }
   ],
   "source": [
    "# Use `best_alpha` to fit the model\n",
    "ridge = linear_model.Ridge(alpha=best_alpha, normalize=True)\n",
    "ridge.fit(X, y)"
   ]
  },
  {
   "cell_type": "code",
   "execution_count": 43,
   "metadata": {},
   "outputs": [
    {
     "name": "stdout",
     "output_type": "stream",
     "text": [
      "Coefficient for      month:\t0.00500061084425084\n",
      "Coefficient for        day:\t-0.02173313755108519\n",
      "Coefficient for    weekday:\t-0.00529899183429663\n",
      "Coefficient for hour_minute:\t0.022459093853804023\n",
      "Coefficient for      pm1.0:\t0.28389900955957686\n",
      "Coefficient for      pm2.5:\t0.34263889697603583\n",
      "Coefficient for     pm10.0:\t0.28329943364422394\n",
      "Coefficient for       temp:\t-0.050305823588231574\n",
      "Coefficient for   humidity:\t-0.051419472875128366\n"
     ]
    }
   ],
   "source": [
    "# See the coefficients of our model\n",
    "for i in range(len(X.columns)):\n",
    "    print('Coefficient for %10s:\\t%s' % (X.columns[i], ridge.coef_[0][i]))"
   ]
  },
  {
   "cell_type": "code",
   "execution_count": 44,
   "metadata": {},
   "outputs": [
    {
     "name": "stdout",
     "output_type": "stream",
     "text": [
      "Train MSE:\t 0.16006237397722722\n",
      "Test MSE:\t 0.25474561398045836\n"
     ]
    }
   ],
   "source": [
    "# Calculate mean squared error for training set & test set\n",
    "predict_train_y = ridge.predict(X)\n",
    "predict_y = ridge.predict(test_X)\n",
    "\n",
    "train_mse = metrics.mean_squared_error(y, predict_train_y)\n",
    "test_mse = metrics.mean_squared_error(test_y, predict_y)\n",
    "\n",
    "print('Train MSE:\\t %s' % train_mse)\n",
    "print('Test MSE:\\t %s' % test_mse)"
   ]
  },
  {
   "cell_type": "code",
   "execution_count": 45,
   "metadata": {
    "scrolled": false
   },
   "outputs": [
    {
     "data": {
      "image/png": "[encoded data removed]",
      "text/plain": [
       "<Figure size 864x504 with 1 Axes>"
      ]
     },
     "metadata": {
      "needs_background": "light"
     },
     "output_type": "display_data"
    }
   ],
   "source": [
    "# Add explicitly converter\n",
    "pd.plotting.register_matplotlib_converters()\n",
    "# Plt\n",
    "plt.figure(figsize=(12, 7))\n",
    "plt.plot(test_df_time, test_df['pm2.5_next_hour'], label='actual values')\n",
    "plt.plot(test_df_time, predict_y, label='predict values')\n",
    "plt.legend()\n",
    "plt.show()"
   ]
  },
  {
   "cell_type": "code",
   "execution_count": null,
   "metadata": {},
   "outputs": [],
   "source": []
  },
  {
   "cell_type": "markdown",
   "metadata": {},
   "source": [
    "### Feature Selection by myself"
   ]
  },
  {
   "cell_type": "code",
   "execution_count": 46,
   "metadata": {},
   "outputs": [],
   "source": [
    "# Select features I want\n",
    "X_fsm = X[['pm2.5', 'temp', 'humidity']]\n",
    "test_X_fsm = test_X[['pm2.5', 'temp', 'humidity']]"
   ]
  },
  {
   "cell_type": "code",
   "execution_count": 47,
   "metadata": {},
   "outputs": [
    {
     "data": {
      "text/plain": [
       "LinearRegression(copy_X=True, fit_intercept=True, n_jobs=None, normalize=True)"
      ]
     },
     "execution_count": 47,
     "metadata": {},
     "output_type": "execute_result"
    }
   ],
   "source": [
    "# Fit the model\n",
    "model = linear_model.LinearRegression(normalize=True)\n",
    "model.fit(X_fsm, y)"
   ]
  },
  {
   "cell_type": "code",
   "execution_count": 48,
   "metadata": {},
   "outputs": [
    {
     "name": "stdout",
     "output_type": "stream",
     "text": [
      "Coefficient for      pm2.5:\t0.910943486471618\n",
      "Coefficient for       temp:\t-0.05550473626297474\n",
      "Coefficient for   humidity:\t-0.05700359269719747\n"
     ]
    }
   ],
   "source": [
    "# See the coefficients of our model\n",
    "for i in range(len(X_fsm.columns)):\n",
    "    print('Coefficient for %10s:\\t%s' % (X_fsm.columns[i], model.coef_[0][i]))"
   ]
  },
  {
   "cell_type": "code",
   "execution_count": 49,
   "metadata": {},
   "outputs": [
    {
     "name": "stdout",
     "output_type": "stream",
     "text": [
      "Train MSE:\t 0.16052911306316844\n",
      "Test MSE:\t 0.2544104563388273\n"
     ]
    }
   ],
   "source": [
    "# Calculate mean squared error for training set & test set\n",
    "predict_train_y = model.predict(X_fsm)\n",
    "predict_y = model.predict(test_X_fsm)\n",
    "\n",
    "train_mse = metrics.mean_squared_error(y, predict_train_y)\n",
    "test_mse = metrics.mean_squared_error(test_y, predict_y)\n",
    "\n",
    "print('Train MSE:\\t %s' % train_mse)\n",
    "print('Test MSE:\\t %s' % test_mse)"
   ]
  },
  {
   "cell_type": "code",
   "execution_count": 50,
   "metadata": {},
   "outputs": [
    {
     "data": {
      "image/png": "[encoded data removed]",
      "text/plain": [
       "<Figure size 864x504 with 1 Axes>"
      ]
     },
     "metadata": {
      "needs_background": "light"
     },
     "output_type": "display_data"
    }
   ],
   "source": [
    "# Add explicitly converter\n",
    "pd.plotting.register_matplotlib_converters()\n",
    "# Plt\n",
    "plt.figure(figsize=(12, 7))\n",
    "plt.plot(test_df_time, test_df['pm2.5_next_hour'], label='actual values')\n",
    "plt.plot(test_df_time, predict_y, label='predict values')\n",
    "plt.legend()\n",
    "plt.show()"
   ]
  },
  {
   "cell_type": "markdown",
   "metadata": {},
   "source": [
    "### Do Ridge Regression again"
   ]
  },
  {
   "cell_type": "code",
   "execution_count": null,
   "metadata": {},
   "outputs": [],
   "source": []
  },
  {
   "cell_type": "code",
   "execution_count": null,
   "metadata": {},
   "outputs": [],
   "source": []
  },
  {
   "cell_type": "markdown",
   "metadata": {},
   "source": [
    "### All in one\n",
    "\n",
    "將所有步驟寫成一個 function 。\n"
   ]
  },
  {
   "cell_type": "code",
   "execution_count": 51,
   "metadata": {},
   "outputs": [
    {
     "data": {
      "text/plain": [
       "\"\\n# Load data\\ndata3 = get_data_by_pos(7)\\ndf3 = pd.DataFrame(data3)\\n# Input time\\ntime = ['2019 06 01', '2019 08 06']\\ntaipei_tz = pytz.timezone('Asia/Taipei')\\n# Set time\\nstart_time = dt.datetime.strptime(time[0], '%Y %m %d').replace(tzinfo=taipei_tz)\\nend_time = dt.datetime.strptime(time[1], '%Y %m %d').replace(tzinfo=taipei_tz)\\n# Select the duration\\ndf3 = df3.loc[ df3['date'] >= start_time ]\\ndf3 = df3.loc[ df3['date'] <= end_time ]\\n# Rename the names of columns\\ndf3 = df3.rename(columns = {'pm10': 'pm1.0', 'pm25': 'pm2.5', 'pm100': 'pm10.0'})\\n# Exclude outliers\\nwant_cols = ['humidity', 'pm1.0', 'pm10.0', 'pm2.5', 'temp']\\ndf3 = df3[(np.abs(stats.zscore(df3.loc[:, want_cols])) < 4).all(axis=1)]\\n# Split time infomation from column `date`\\ndf3['month'] = df3['date'].apply(lambda x: x.month)\\ndf3['day'] = df3['date'].apply(lambda x: x.day)\\ndf3['weekday'] = df3['date'].apply(lambda x: x.weekday)\\ndf3['hour'] = df3['date'].apply(lambda x: x.hour)\\ndf3['hour_minute'] = df3['date'].apply(lambda x: x.hour+x.minute/60)\\n# Set the order of the columns & discard some columns\\ndf3 = df3[['month', 'day', 'weekday', 'hour', 'hour_minute', 'pm1.0', 'pm2.5', 'pm10.0', 'temp', 'humidity']]\\n# Evaluate mean values for each hour\\ndf3mean = df3.groupby(['month', 'day', 'hour']).mean()\\ndf3mean.reset_index(inplace=True)\\n# Reconstruct time infomation by `month`, `day`, and `hour`\\ndf3mean['time'] = df3mean[['month', 'day', 'hour']].apply(get_time, axis=1)\\ndf3mean[['pm2.5_shift-1']] = df3mean[['pm2.5']].shift(-1)\\ndf3mean[['time_shift-1']] = df3mean[['time']].shift(-1)\\n# Check the next row is the next hour or not. \\n# If it is not, the `pm2.5_next_hour` column will be given NaN.\\ndf3mean['pm2.5_next_hour'] = df3mean[['pm2.5_shift-1', 'time', 'time_shift-1']].apply(check_next_hour, axis=1)\\n# discard rows that contain NaN value\\ndf3mean.dropna(inplace=True)\\n# Normalization\\ndf3mean_time = df3mean['time_shift-1']\\ndf3mean.drop(columns=['time', 'time_shift-1'], axis=0, inplace=True)\\n\\ndf3mean = (df3mean - df3mean.mean()) / df3mean.std()\\n# Divid training set and test set\\nfour_fifth_len = len(df3mean)*0.8\\nfour_fifth_len = int(four_fifth_len)\\n\\ntrain_df = df3mean[:four_fifth_len]\\ntest_df = df3mean[four_fifth_len:]\\n\\ntest_df_time = df3mean_time[four_fifth_len:]\\n\\nX = train_df[['month', 'day', 'weekday', 'hour', 'pm1.0', 'pm2.5', 'pm10.0', 'temp', 'humidity']]\\ny = train_df[['pm2.5_next_hour']]\\n\\ntest_X = test_df[['month', 'day', 'weekday', 'hour', 'pm1.0', 'pm2.5', 'pm10.0', 'temp', 'humidity']]\\ntest_y = test_df[['pm2.5_next_hour']]\\n# define a range of values for alpha to search over.\\nalphas = np.linspace(start=0, stop=0.03, num=11)\\n\\nmses = []\\nfor alpha in alphas:\\n    ridge = linear_model.Ridge(alpha=alpha, normalize=True)\\n    mse = model_selection.cross_val_score(ridge, X, y, cv=10, scoring=scorer)\\n    mses.append(mse.mean())\\nbest_alpha = alphas[np.argmin(mses)]\\n# Use `best_alpha` to fit the model\\nridge = linear_model.Ridge(alpha=best_alpha, normalize=True)\\nridge.fit(X, y)\\n\\n# See the coefficients of our model\\nfor i in range(len(X.columns)):\\n    print('Coefficient for %10s:\\t%s' % (X.columns[i], ridge.coef_[0][i]))\\n# Calculate mean squared error for training set & test set    \\npredict_train_y = ridge.predict(X)\\npredict_y = ridge.predict(test_X)\\n\\ntrain_mse = metrics.mean_squared_error(y, predict_train_y)\\ntest_mse = metrics.mean_squared_error(test_y, predict_y)\\n\\nprint('Train MSE:\\t %s' % train_mse)\\nprint('Test MSE:\\t %s' % test_mse)\\n# Add explicitly converter\\npd.plotting.register_matplotlib_converters()\\n\\n# Plt\\nplt.figure(figsize=(12, 7))\\nplt.plot(test_df_time, test_df['pm2.5_next_hour'], label='actual values')\\nplt.plot(test_df_time, predict_y, label='predict values')\\nplt.legend()\\nplt.show()\\n\""
      ]
     },
     "execution_count": 51,
     "metadata": {},
     "output_type": "execute_result"
    }
   ],
   "source": [
    "'''\n",
    "# Load data\n",
    "data3 = get_data_by_pos(7)\n",
    "df3 = pd.DataFrame(data3)\n",
    "# Input time\n",
    "time = ['2019 06 01', '2019 08 06']\n",
    "taipei_tz = pytz.timezone('Asia/Taipei')\n",
    "# Set time\n",
    "start_time = dt.datetime.strptime(time[0], '%Y %m %d').replace(tzinfo=taipei_tz)\n",
    "end_time = dt.datetime.strptime(time[1], '%Y %m %d').replace(tzinfo=taipei_tz)\n",
    "# Select the duration\n",
    "df3 = df3.loc[ df3['date'] >= start_time ]\n",
    "df3 = df3.loc[ df3['date'] <= end_time ]\n",
    "# Rename the names of columns\n",
    "df3 = df3.rename(columns = {'pm10': 'pm1.0', 'pm25': 'pm2.5', 'pm100': 'pm10.0'})\n",
    "# Exclude outliers\n",
    "want_cols = ['humidity', 'pm1.0', 'pm10.0', 'pm2.5', 'temp']\n",
    "df3 = df3[(np.abs(stats.zscore(df3.loc[:, want_cols])) < 4).all(axis=1)]\n",
    "# Split time infomation from column `date`\n",
    "df3['month'] = df3['date'].apply(lambda x: x.month)\n",
    "df3['day'] = df3['date'].apply(lambda x: x.day)\n",
    "df3['weekday'] = df3['date'].apply(lambda x: x.weekday)\n",
    "df3['hour'] = df3['date'].apply(lambda x: x.hour)\n",
    "df3['hour_minute'] = df3['date'].apply(lambda x: x.hour+x.minute/60)\n",
    "# Set the order of the columns & discard some columns\n",
    "df3 = df3[['month', 'day', 'weekday', 'hour', 'hour_minute', 'pm1.0', 'pm2.5', 'pm10.0', 'temp', 'humidity']]\n",
    "# Evaluate mean values for each hour\n",
    "df3mean = df3.groupby(['month', 'day', 'hour']).mean()\n",
    "df3mean.reset_index(inplace=True)\n",
    "# Reconstruct time infomation by `month`, `day`, and `hour`\n",
    "df3mean['time'] = df3mean[['month', 'day', 'hour']].apply(get_time, axis=1)\n",
    "df3mean[['pm2.5_shift-1']] = df3mean[['pm2.5']].shift(-1)\n",
    "df3mean[['time_shift-1']] = df3mean[['time']].shift(-1)\n",
    "# Check the next row is the next hour or not. \n",
    "# If it is not, the `pm2.5_next_hour` column will be given NaN.\n",
    "df3mean['pm2.5_next_hour'] = df3mean[['pm2.5_shift-1', 'time', 'time_shift-1']].apply(check_next_hour, axis=1)\n",
    "# discard rows that contain NaN value\n",
    "df3mean.dropna(inplace=True)\n",
    "# Normalization\n",
    "df3mean_time = df3mean['time_shift-1']\n",
    "df3mean.drop(columns=['time', 'time_shift-1'], axis=0, inplace=True)\n",
    "\n",
    "df3mean = (df3mean - df3mean.mean()) / df3mean.std()\n",
    "# Divid training set and test set\n",
    "four_fifth_len = len(df3mean)*0.8\n",
    "four_fifth_len = int(four_fifth_len)\n",
    "\n",
    "train_df = df3mean[:four_fifth_len]\n",
    "test_df = df3mean[four_fifth_len:]\n",
    "\n",
    "test_df_time = df3mean_time[four_fifth_len:]\n",
    "\n",
    "X = train_df[['month', 'day', 'weekday', 'hour', 'pm1.0', 'pm2.5', 'pm10.0', 'temp', 'humidity']]\n",
    "y = train_df[['pm2.5_next_hour']]\n",
    "\n",
    "test_X = test_df[['month', 'day', 'weekday', 'hour', 'pm1.0', 'pm2.5', 'pm10.0', 'temp', 'humidity']]\n",
    "test_y = test_df[['pm2.5_next_hour']]\n",
    "# define a range of values for alpha to search over.\n",
    "alphas = np.linspace(start=0, stop=0.03, num=11)\n",
    "\n",
    "mses = []\n",
    "for alpha in alphas:\n",
    "    ridge = linear_model.Ridge(alpha=alpha, normalize=True)\n",
    "    mse = model_selection.cross_val_score(ridge, X, y, cv=10, scoring=scorer)\n",
    "    mses.append(mse.mean())\n",
    "best_alpha = alphas[np.argmin(mses)]\n",
    "# Use `best_alpha` to fit the model\n",
    "ridge = linear_model.Ridge(alpha=best_alpha, normalize=True)\n",
    "ridge.fit(X, y)\n",
    "\n",
    "# See the coefficients of our model\n",
    "for i in range(len(X.columns)):\n",
    "    print('Coefficient for %10s:\\t%s' % (X.columns[i], ridge.coef_[0][i]))\n",
    "# Calculate mean squared error for training set & test set    \n",
    "predict_train_y = ridge.predict(X)\n",
    "predict_y = ridge.predict(test_X)\n",
    "\n",
    "train_mse = metrics.mean_squared_error(y, predict_train_y)\n",
    "test_mse = metrics.mean_squared_error(test_y, predict_y)\n",
    "\n",
    "print('Train MSE:\\t %s' % train_mse)\n",
    "print('Test MSE:\\t %s' % test_mse)\n",
    "# Add explicitly converter\n",
    "pd.plotting.register_matplotlib_converters()\n",
    "\n",
    "# Plt\n",
    "plt.figure(figsize=(12, 7))\n",
    "plt.plot(test_df_time, test_df['pm2.5_next_hour'], label='actual values')\n",
    "plt.plot(test_df_time, predict_y, label='predict values')\n",
    "plt.legend()\n",
    "plt.show()\n",
    "'''"
   ]
  },
  {
   "cell_type": "code",
   "execution_count": 52,
   "metadata": {},
   "outputs": [],
   "source": [
    "def predict(pos):    \n",
    "    # Load data\n",
    "    data3 = get_data_by_pos(pos)\n",
    "    df3 = pd.DataFrame(data3)\n",
    "    # Input time\n",
    "    time = ['2019 06 01', '2019 08 06']\n",
    "    taipei_tz = pytz.timezone('Asia/Taipei')\n",
    "    # Set time\n",
    "    start_time = dt.datetime.strptime(time[0], '%Y %m %d').replace(tzinfo=taipei_tz)\n",
    "    end_time = dt.datetime.strptime(time[1], '%Y %m %d').replace(tzinfo=taipei_tz)\n",
    "    # Select the duration\n",
    "    df3 = df3.loc[ df3['date'] >= start_time ]\n",
    "    df3 = df3.loc[ df3['date'] <= end_time ]\n",
    "    # Rename the names of columns\n",
    "    df3 = df3.rename(columns = {'pm10': 'pm1.0', 'pm25': 'pm2.5', 'pm100': 'pm10.0'})\n",
    "    # Exclude outliers\n",
    "    want_cols = ['humidity', 'pm1.0', 'pm10.0', 'pm2.5', 'temp']\n",
    "    df3 = df3[(np.abs(stats.zscore(df3.loc[:, want_cols])) < 4).all(axis=1)]\n",
    "    # Split time infomation from column `date`\n",
    "    df3['month'] = df3['date'].apply(lambda x: x.month)\n",
    "    df3['day'] = df3['date'].apply(lambda x: x.day)\n",
    "    df3['weekday'] = df3['date'].apply(lambda x: x.weekday)\n",
    "    df3['hour'] = df3['date'].apply(lambda x: x.hour)\n",
    "    df3['hour_minute'] = df3['date'].apply(lambda x: x.hour+x.minute/60)\n",
    "    # Set the order of the columns & discard some columns\n",
    "    df3 = df3[['month', 'day', 'weekday', 'hour', 'hour_minute', 'pm1.0', 'pm2.5', 'pm10.0', 'temp', 'humidity']]\n",
    "    # Evaluate mean values for each hour\n",
    "    df3mean = df3.groupby(['month', 'day', 'hour']).mean()\n",
    "    df3mean.reset_index(inplace=True)\n",
    "    # Reconstruct time infomation by `month`, `day`, and `hour`\n",
    "    df3mean['time'] = df3mean[['month', 'day', 'hour']].apply(get_time, axis=1)\n",
    "    df3mean[['pm2.5_shift-1']] = df3mean[['pm2.5']].shift(-1)\n",
    "    df3mean[['time_shift-1']] = df3mean[['time']].shift(-1)\n",
    "    # Check the next row is the next hour or not. \n",
    "    # If it is not, the `pm2.5_next_hour` column will be given NaN.\n",
    "    df3mean['pm2.5_next_hour'] = df3mean[['pm2.5_shift-1', 'time', 'time_shift-1']].apply(check_next_hour, axis=1)\n",
    "    # discard rows that contain NaN value\n",
    "    df3mean.dropna(inplace=True)\n",
    "    # Save time infomation in another df, and discard it\n",
    "    df3mean_time = df3mean['time_shift-1']\n",
    "    df3mean.drop(columns=['time', 'time_shift-1'], axis=0, inplace=True)\n",
    "    # Normalization\n",
    "    df3mean = (df3mean - df3mean.mean()) / df3mean.std()\n",
    "    # Divid training set and test set\n",
    "    four_fifth_len = len(df3mean)*0.8\n",
    "    four_fifth_len = int(four_fifth_len)\n",
    "\n",
    "    train_df = df3mean[:four_fifth_len]\n",
    "    test_df = df3mean[four_fifth_len:]\n",
    "\n",
    "    test_df_time = df3mean_time[four_fifth_len:]\n",
    "\n",
    "    X = train_df[['month', 'day', 'weekday', 'hour', 'pm1.0', 'pm2.5', 'pm10.0', 'temp', 'humidity']]\n",
    "    y = train_df[['pm2.5_next_hour']]\n",
    "\n",
    "    test_X = test_df[['month', 'day', 'weekday', 'hour', 'pm1.0', 'pm2.5', 'pm10.0', 'temp', 'humidity']]\n",
    "    test_y = test_df[['pm2.5_next_hour']]\n",
    "    # Select features I want\n",
    "    X_fsm = X[['pm2.5', 'temp', 'humidity']]\n",
    "    test_X_fsm = test_X[['pm2.5', 'temp', 'humidity']]\n",
    "    # Fit the model\n",
    "    model = linear_model.LinearRegression(normalize=True)\n",
    "    model.fit(X_fsm, y)\n",
    "    # See the coefficients of our model\n",
    "    for i in range(len(X_fsm.columns)):\n",
    "        print('Coefficient for %10s:\\t%s' % (X_fsm.columns[i], model.coef_[0][i]))\n",
    "    # Calculate mean squared error for training set & test set\n",
    "    predict_train_y = model.predict(X_fsm)\n",
    "    predict_y = model.predict(test_X_fsm)\n",
    "\n",
    "    train_mse = metrics.mean_squared_error(y, predict_train_y)\n",
    "    test_mse = metrics.mean_squared_error(test_y, predict_y)\n",
    "\n",
    "    print('Train MSE:\\t %s' % train_mse)\n",
    "    print('Test MSE:\\t %s' % test_mse)\n",
    "    # Add explicitly converter\n",
    "    pd.plotting.register_matplotlib_converters()\n",
    "\n",
    "    # Plt\n",
    "    plt.figure(figsize=(12, 7))\n",
    "    plt.plot(test_df_time, test_df['pm2.5_next_hour'], label='actual values')\n",
    "    plt.plot(test_df_time, predict_y, label='predict values')\n",
    "    plt.legend()\n",
    "    plt.show()"
   ]
  },
  {
   "cell_type": "code",
   "execution_count": 53,
   "metadata": {},
   "outputs": [
    {
     "name": "stdout",
     "output_type": "stream",
     "text": [
      "Coefficient for      pm2.5:\t0.9313903213124722\n",
      "Coefficient for       temp:\t-0.06694487505652261\n",
      "Coefficient for   humidity:\t-0.0641465351848132\n",
      "Train MSE:\t 0.1242282222726783\n",
      "Test MSE:\t 0.2795054196545553\n"
     ]
    },
    {
     "data": {
      "image/png": "[encoded data removed]",
      "text/plain": [
       "<Figure size 864x504 with 1 Axes>"
      ]
     },
     "metadata": {
      "needs_background": "light"
     },
     "output_type": "display_data"
    }
   ],
   "source": [
    "predict(5)"
   ]
  },
  {
   "cell_type": "code",
   "execution_count": null,
   "metadata": {},
   "outputs": [],
   "source": []
  },
  {
   "cell_type": "code",
   "execution_count": null,
   "metadata": {},
   "outputs": [],
   "source": []
  },
  {
   "cell_type": "markdown",
   "metadata": {},
   "source": [
    "## 不區分 Position 的 Linear Regression\n",
    "\n",
    "未完成...\n",
    "\n",
    "### Load data\n"
   ]
  },
  {
   "cell_type": "code",
   "execution_count": 54,
   "metadata": {},
   "outputs": [],
   "source": [
    "data = get_all_data()"
   ]
  },
  {
   "cell_type": "code",
   "execution_count": 55,
   "metadata": {},
   "outputs": [],
   "source": [
    "df = pd.DataFrame(data)"
   ]
  },
  {
   "cell_type": "markdown",
   "metadata": {},
   "source": [
    "### Data preprocessing"
   ]
  },
  {
   "cell_type": "code",
   "execution_count": 56,
   "metadata": {},
   "outputs": [],
   "source": [
    "# rename the names of columns\n",
    "df = df.rename(columns = {'pm10': 'pm1.0', 'pm25': 'pm2.5', 'pm100': 'pm10.0'})"
   ]
  },
  {
   "cell_type": "code",
   "execution_count": 57,
   "metadata": {},
   "outputs": [
    {
     "data": {
      "text/html": [
       "<div>\n",
       "<style scoped>\n",
       "    .dataframe tbody tr th:only-of-type {\n",
       "        vertical-align: middle;\n",
       "    }\n",
       "\n",
       "    .dataframe tbody tr th {\n",
       "        vertical-align: top;\n",
       "    }\n",
       "\n",
       "    .dataframe thead th {\n",
       "        text-align: right;\n",
       "    }\n",
       "</style>\n",
       "<table border=\"1\" class=\"dataframe\">\n",
       "  <thead>\n",
       "    <tr style=\"text-align: right;\">\n",
       "      <th></th>\n",
       "      <th>_cls</th>\n",
       "      <th>date</th>\n",
       "      <th>humidity</th>\n",
       "      <th>pm1.0</th>\n",
       "      <th>pm10.0</th>\n",
       "      <th>pm2.5</th>\n",
       "      <th>position</th>\n",
       "      <th>temp</th>\n",
       "    </tr>\n",
       "  </thead>\n",
       "  <tbody>\n",
       "    <tr>\n",
       "      <th>0</th>\n",
       "      <td>models.data_model.PMData</td>\n",
       "      <td>2019-05-11 09:28:17+08:00</td>\n",
       "      <td>62</td>\n",
       "      <td>50</td>\n",
       "      <td>94</td>\n",
       "      <td>78</td>\n",
       "      <td>3</td>\n",
       "      <td>28</td>\n",
       "    </tr>\n",
       "    <tr>\n",
       "      <th>1</th>\n",
       "      <td>models.data_model.PMData</td>\n",
       "      <td>2019-05-11 09:29:44+08:00</td>\n",
       "      <td>67</td>\n",
       "      <td>42</td>\n",
       "      <td>81</td>\n",
       "      <td>72</td>\n",
       "      <td>5</td>\n",
       "      <td>27</td>\n",
       "    </tr>\n",
       "    <tr>\n",
       "      <th>2</th>\n",
       "      <td>models.data_model.PMData</td>\n",
       "      <td>2019-05-11 09:43:14+08:00</td>\n",
       "      <td>61</td>\n",
       "      <td>36</td>\n",
       "      <td>71</td>\n",
       "      <td>60</td>\n",
       "      <td>3</td>\n",
       "      <td>29</td>\n",
       "    </tr>\n",
       "    <tr>\n",
       "      <th>3</th>\n",
       "      <td>models.data_model.PMData</td>\n",
       "      <td>2019-05-11 09:44:42+08:00</td>\n",
       "      <td>67</td>\n",
       "      <td>41</td>\n",
       "      <td>82</td>\n",
       "      <td>70</td>\n",
       "      <td>5</td>\n",
       "      <td>27</td>\n",
       "    </tr>\n",
       "    <tr>\n",
       "      <th>4</th>\n",
       "      <td>models.data_model.PMData</td>\n",
       "      <td>2019-05-11 09:58:13+08:00</td>\n",
       "      <td>59</td>\n",
       "      <td>39</td>\n",
       "      <td>75</td>\n",
       "      <td>63</td>\n",
       "      <td>3</td>\n",
       "      <td>29</td>\n",
       "    </tr>\n",
       "  </tbody>\n",
       "</table>\n",
       "</div>"
      ],
      "text/plain": [
       "                       _cls                      date  humidity  pm1.0  \\\n",
       "0  models.data_model.PMData 2019-05-11 09:28:17+08:00        62     50   \n",
       "1  models.data_model.PMData 2019-05-11 09:29:44+08:00        67     42   \n",
       "2  models.data_model.PMData 2019-05-11 09:43:14+08:00        61     36   \n",
       "3  models.data_model.PMData 2019-05-11 09:44:42+08:00        67     41   \n",
       "4  models.data_model.PMData 2019-05-11 09:58:13+08:00        59     39   \n",
       "\n",
       "   pm10.0  pm2.5  position  temp  \n",
       "0      94     78         3    28  \n",
       "1      81     72         5    27  \n",
       "2      71     60         3    29  \n",
       "3      82     70         5    27  \n",
       "4      75     63         3    29  "
      ]
     },
     "execution_count": 57,
     "metadata": {},
     "output_type": "execute_result"
    }
   ],
   "source": [
    "df.head()"
   ]
  },
  {
   "cell_type": "code",
   "execution_count": 58,
   "metadata": {},
   "outputs": [],
   "source": [
    "df['month'] = df['date'].apply(lambda x: x.month)\n",
    "df['day'] = df['date'].apply(lambda x: x.day)\n",
    "df['weekday'] = df['date'].apply(lambda x: x.weekday)\n",
    "df['hour'] = df['date'].apply(lambda x: x.hour)\n",
    "df['hour_minute'] = df['date'].apply(lambda x: x.hour+x.minute/60)"
   ]
  },
  {
   "cell_type": "code",
   "execution_count": 59,
   "metadata": {},
   "outputs": [
    {
     "data": {
      "text/html": [
       "<div>\n",
       "<style scoped>\n",
       "    .dataframe tbody tr th:only-of-type {\n",
       "        vertical-align: middle;\n",
       "    }\n",
       "\n",
       "    .dataframe tbody tr th {\n",
       "        vertical-align: top;\n",
       "    }\n",
       "\n",
       "    .dataframe thead th {\n",
       "        text-align: right;\n",
       "    }\n",
       "</style>\n",
       "<table border=\"1\" class=\"dataframe\">\n",
       "  <thead>\n",
       "    <tr style=\"text-align: right;\">\n",
       "      <th></th>\n",
       "      <th>_cls</th>\n",
       "      <th>date</th>\n",
       "      <th>humidity</th>\n",
       "      <th>pm1.0</th>\n",
       "      <th>pm10.0</th>\n",
       "      <th>pm2.5</th>\n",
       "      <th>position</th>\n",
       "      <th>temp</th>\n",
       "      <th>month</th>\n",
       "      <th>day</th>\n",
       "      <th>weekday</th>\n",
       "      <th>hour</th>\n",
       "      <th>hour_minute</th>\n",
       "    </tr>\n",
       "  </thead>\n",
       "  <tbody>\n",
       "    <tr>\n",
       "      <th>0</th>\n",
       "      <td>models.data_model.PMData</td>\n",
       "      <td>2019-05-11 09:28:17+08:00</td>\n",
       "      <td>62</td>\n",
       "      <td>50</td>\n",
       "      <td>94</td>\n",
       "      <td>78</td>\n",
       "      <td>3</td>\n",
       "      <td>28</td>\n",
       "      <td>5</td>\n",
       "      <td>11</td>\n",
       "      <td>5</td>\n",
       "      <td>9</td>\n",
       "      <td>9.466667</td>\n",
       "    </tr>\n",
       "    <tr>\n",
       "      <th>1</th>\n",
       "      <td>models.data_model.PMData</td>\n",
       "      <td>2019-05-11 09:29:44+08:00</td>\n",
       "      <td>67</td>\n",
       "      <td>42</td>\n",
       "      <td>81</td>\n",
       "      <td>72</td>\n",
       "      <td>5</td>\n",
       "      <td>27</td>\n",
       "      <td>5</td>\n",
       "      <td>11</td>\n",
       "      <td>5</td>\n",
       "      <td>9</td>\n",
       "      <td>9.483333</td>\n",
       "    </tr>\n",
       "    <tr>\n",
       "      <th>2</th>\n",
       "      <td>models.data_model.PMData</td>\n",
       "      <td>2019-05-11 09:43:14+08:00</td>\n",
       "      <td>61</td>\n",
       "      <td>36</td>\n",
       "      <td>71</td>\n",
       "      <td>60</td>\n",
       "      <td>3</td>\n",
       "      <td>29</td>\n",
       "      <td>5</td>\n",
       "      <td>11</td>\n",
       "      <td>5</td>\n",
       "      <td>9</td>\n",
       "      <td>9.716667</td>\n",
       "    </tr>\n",
       "    <tr>\n",
       "      <th>3</th>\n",
       "      <td>models.data_model.PMData</td>\n",
       "      <td>2019-05-11 09:44:42+08:00</td>\n",
       "      <td>67</td>\n",
       "      <td>41</td>\n",
       "      <td>82</td>\n",
       "      <td>70</td>\n",
       "      <td>5</td>\n",
       "      <td>27</td>\n",
       "      <td>5</td>\n",
       "      <td>11</td>\n",
       "      <td>5</td>\n",
       "      <td>9</td>\n",
       "      <td>9.733333</td>\n",
       "    </tr>\n",
       "    <tr>\n",
       "      <th>4</th>\n",
       "      <td>models.data_model.PMData</td>\n",
       "      <td>2019-05-11 09:58:13+08:00</td>\n",
       "      <td>59</td>\n",
       "      <td>39</td>\n",
       "      <td>75</td>\n",
       "      <td>63</td>\n",
       "      <td>3</td>\n",
       "      <td>29</td>\n",
       "      <td>5</td>\n",
       "      <td>11</td>\n",
       "      <td>5</td>\n",
       "      <td>9</td>\n",
       "      <td>9.966667</td>\n",
       "    </tr>\n",
       "  </tbody>\n",
       "</table>\n",
       "</div>"
      ],
      "text/plain": [
       "                       _cls                      date  humidity  pm1.0  \\\n",
       "0  models.data_model.PMData 2019-05-11 09:28:17+08:00        62     50   \n",
       "1  models.data_model.PMData 2019-05-11 09:29:44+08:00        67     42   \n",
       "2  models.data_model.PMData 2019-05-11 09:43:14+08:00        61     36   \n",
       "3  models.data_model.PMData 2019-05-11 09:44:42+08:00        67     41   \n",
       "4  models.data_model.PMData 2019-05-11 09:58:13+08:00        59     39   \n",
       "\n",
       "   pm10.0  pm2.5  position  temp  month  day  weekday  hour  hour_minute  \n",
       "0      94     78         3    28      5   11        5     9     9.466667  \n",
       "1      81     72         5    27      5   11        5     9     9.483333  \n",
       "2      71     60         3    29      5   11        5     9     9.716667  \n",
       "3      82     70         5    27      5   11        5     9     9.733333  \n",
       "4      75     63         3    29      5   11        5     9     9.966667  "
      ]
     },
     "execution_count": 59,
     "metadata": {},
     "output_type": "execute_result"
    }
   ],
   "source": [
    "df.head()"
   ]
  },
  {
   "cell_type": "code",
   "execution_count": null,
   "metadata": {},
   "outputs": [],
   "source": []
  },
  {
   "cell_type": "code",
   "execution_count": 60,
   "metadata": {},
   "outputs": [
    {
     "data": {
      "text/html": [
       "<div>\n",
       "<style scoped>\n",
       "    .dataframe tbody tr th:only-of-type {\n",
       "        vertical-align: middle;\n",
       "    }\n",
       "\n",
       "    .dataframe tbody tr th {\n",
       "        vertical-align: top;\n",
       "    }\n",
       "\n",
       "    .dataframe thead th {\n",
       "        text-align: right;\n",
       "    }\n",
       "</style>\n",
       "<table border=\"1\" class=\"dataframe\">\n",
       "  <thead>\n",
       "    <tr style=\"text-align: right;\">\n",
       "      <th></th>\n",
       "      <th>humidity</th>\n",
       "      <th>pm1.0</th>\n",
       "      <th>pm10.0</th>\n",
       "      <th>pm2.5</th>\n",
       "      <th>position</th>\n",
       "      <th>temp</th>\n",
       "      <th>month</th>\n",
       "      <th>day</th>\n",
       "      <th>weekday</th>\n",
       "      <th>hour</th>\n",
       "      <th>hour_minute</th>\n",
       "    </tr>\n",
       "  </thead>\n",
       "  <tbody>\n",
       "    <tr>\n",
       "      <th>0</th>\n",
       "      <td>62</td>\n",
       "      <td>50</td>\n",
       "      <td>94</td>\n",
       "      <td>78</td>\n",
       "      <td>3</td>\n",
       "      <td>28</td>\n",
       "      <td>5</td>\n",
       "      <td>11</td>\n",
       "      <td>5</td>\n",
       "      <td>9</td>\n",
       "      <td>9.466667</td>\n",
       "    </tr>\n",
       "    <tr>\n",
       "      <th>1</th>\n",
       "      <td>67</td>\n",
       "      <td>42</td>\n",
       "      <td>81</td>\n",
       "      <td>72</td>\n",
       "      <td>5</td>\n",
       "      <td>27</td>\n",
       "      <td>5</td>\n",
       "      <td>11</td>\n",
       "      <td>5</td>\n",
       "      <td>9</td>\n",
       "      <td>9.483333</td>\n",
       "    </tr>\n",
       "    <tr>\n",
       "      <th>2</th>\n",
       "      <td>61</td>\n",
       "      <td>36</td>\n",
       "      <td>71</td>\n",
       "      <td>60</td>\n",
       "      <td>3</td>\n",
       "      <td>29</td>\n",
       "      <td>5</td>\n",
       "      <td>11</td>\n",
       "      <td>5</td>\n",
       "      <td>9</td>\n",
       "      <td>9.716667</td>\n",
       "    </tr>\n",
       "    <tr>\n",
       "      <th>3</th>\n",
       "      <td>67</td>\n",
       "      <td>41</td>\n",
       "      <td>82</td>\n",
       "      <td>70</td>\n",
       "      <td>5</td>\n",
       "      <td>27</td>\n",
       "      <td>5</td>\n",
       "      <td>11</td>\n",
       "      <td>5</td>\n",
       "      <td>9</td>\n",
       "      <td>9.733333</td>\n",
       "    </tr>\n",
       "    <tr>\n",
       "      <th>4</th>\n",
       "      <td>59</td>\n",
       "      <td>39</td>\n",
       "      <td>75</td>\n",
       "      <td>63</td>\n",
       "      <td>3</td>\n",
       "      <td>29</td>\n",
       "      <td>5</td>\n",
       "      <td>11</td>\n",
       "      <td>5</td>\n",
       "      <td>9</td>\n",
       "      <td>9.966667</td>\n",
       "    </tr>\n",
       "  </tbody>\n",
       "</table>\n",
       "</div>"
      ],
      "text/plain": [
       "   humidity  pm1.0  pm10.0  pm2.5  position  temp  month  day  weekday  hour  \\\n",
       "0        62     50      94     78         3    28      5   11        5     9   \n",
       "1        67     42      81     72         5    27      5   11        5     9   \n",
       "2        61     36      71     60         3    29      5   11        5     9   \n",
       "3        67     41      82     70         5    27      5   11        5     9   \n",
       "4        59     39      75     63         3    29      5   11        5     9   \n",
       "\n",
       "   hour_minute  \n",
       "0     9.466667  \n",
       "1     9.483333  \n",
       "2     9.716667  \n",
       "3     9.733333  \n",
       "4     9.966667  "
      ]
     },
     "execution_count": 60,
     "metadata": {},
     "output_type": "execute_result"
    }
   ],
   "source": [
    "df.drop(columns=['_cls', 'date'], inplace=True)\n",
    "df.head()"
   ]
  },
  {
   "cell_type": "code",
   "execution_count": 61,
   "metadata": {},
   "outputs": [],
   "source": [
    "df[['pm2.5_next']] = df[['pm2.5']].shift(-1)"
   ]
  },
  {
   "cell_type": "code",
   "execution_count": 62,
   "metadata": {},
   "outputs": [
    {
     "data": {
      "text/html": [
       "<div>\n",
       "<style scoped>\n",
       "    .dataframe tbody tr th:only-of-type {\n",
       "        vertical-align: middle;\n",
       "    }\n",
       "\n",
       "    .dataframe tbody tr th {\n",
       "        vertical-align: top;\n",
       "    }\n",
       "\n",
       "    .dataframe thead th {\n",
       "        text-align: right;\n",
       "    }\n",
       "</style>\n",
       "<table border=\"1\" class=\"dataframe\">\n",
       "  <thead>\n",
       "    <tr style=\"text-align: right;\">\n",
       "      <th></th>\n",
       "      <th>humidity</th>\n",
       "      <th>pm1.0</th>\n",
       "      <th>pm10.0</th>\n",
       "      <th>pm2.5</th>\n",
       "      <th>position</th>\n",
       "      <th>temp</th>\n",
       "      <th>month</th>\n",
       "      <th>day</th>\n",
       "      <th>weekday</th>\n",
       "      <th>hour</th>\n",
       "      <th>hour_minute</th>\n",
       "      <th>pm2.5_next</th>\n",
       "    </tr>\n",
       "  </thead>\n",
       "  <tbody>\n",
       "    <tr>\n",
       "      <th>50035</th>\n",
       "      <td>68</td>\n",
       "      <td>8</td>\n",
       "      <td>16</td>\n",
       "      <td>11</td>\n",
       "      <td>5</td>\n",
       "      <td>28</td>\n",
       "      <td>8</td>\n",
       "      <td>5</td>\n",
       "      <td>0</td>\n",
       "      <td>23</td>\n",
       "      <td>23.300000</td>\n",
       "      <td>11.0</td>\n",
       "    </tr>\n",
       "    <tr>\n",
       "      <th>50036</th>\n",
       "      <td>68</td>\n",
       "      <td>7</td>\n",
       "      <td>11</td>\n",
       "      <td>11</td>\n",
       "      <td>6</td>\n",
       "      <td>27</td>\n",
       "      <td>8</td>\n",
       "      <td>5</td>\n",
       "      <td>0</td>\n",
       "      <td>23</td>\n",
       "      <td>23.316667</td>\n",
       "      <td>12.0</td>\n",
       "    </tr>\n",
       "    <tr>\n",
       "      <th>50037</th>\n",
       "      <td>73</td>\n",
       "      <td>9</td>\n",
       "      <td>12</td>\n",
       "      <td>12</td>\n",
       "      <td>1</td>\n",
       "      <td>26</td>\n",
       "      <td>8</td>\n",
       "      <td>5</td>\n",
       "      <td>0</td>\n",
       "      <td>23</td>\n",
       "      <td>23.316667</td>\n",
       "      <td>11.0</td>\n",
       "    </tr>\n",
       "    <tr>\n",
       "      <th>50038</th>\n",
       "      <td>74</td>\n",
       "      <td>7</td>\n",
       "      <td>11</td>\n",
       "      <td>11</td>\n",
       "      <td>4</td>\n",
       "      <td>26</td>\n",
       "      <td>8</td>\n",
       "      <td>5</td>\n",
       "      <td>0</td>\n",
       "      <td>23</td>\n",
       "      <td>23.333333</td>\n",
       "      <td>7.0</td>\n",
       "    </tr>\n",
       "    <tr>\n",
       "      <th>50039</th>\n",
       "      <td>64</td>\n",
       "      <td>6</td>\n",
       "      <td>7</td>\n",
       "      <td>7</td>\n",
       "      <td>2</td>\n",
       "      <td>28</td>\n",
       "      <td>8</td>\n",
       "      <td>5</td>\n",
       "      <td>0</td>\n",
       "      <td>23</td>\n",
       "      <td>23.400000</td>\n",
       "      <td>10.0</td>\n",
       "    </tr>\n",
       "  </tbody>\n",
       "</table>\n",
       "</div>"
      ],
      "text/plain": [
       "       humidity  pm1.0  pm10.0  pm2.5  position  temp  month  day  weekday  \\\n",
       "50035        68      8      16     11         5    28      8    5        0   \n",
       "50036        68      7      11     11         6    27      8    5        0   \n",
       "50037        73      9      12     12         1    26      8    5        0   \n",
       "50038        74      7      11     11         4    26      8    5        0   \n",
       "50039        64      6       7      7         2    28      8    5        0   \n",
       "\n",
       "       hour  hour_minute  pm2.5_next  \n",
       "50035    23    23.300000        11.0  \n",
       "50036    23    23.316667        12.0  \n",
       "50037    23    23.316667        11.0  \n",
       "50038    23    23.333333         7.0  \n",
       "50039    23    23.400000        10.0  "
      ]
     },
     "execution_count": 62,
     "metadata": {},
     "output_type": "execute_result"
    }
   ],
   "source": [
    "df.dropna(inplace=True)\n",
    "df.tail()"
   ]
  },
  {
   "cell_type": "code",
   "execution_count": 63,
   "metadata": {},
   "outputs": [],
   "source": [
    "four_fifth_len = len(df)*0.8\n",
    "four_fifth_len = int(four_fifth_len)"
   ]
  },
  {
   "cell_type": "code",
   "execution_count": 64,
   "metadata": {},
   "outputs": [],
   "source": [
    "train_df = df[:four_fifth_len]\n",
    "test_df = df[four_fifth_len:]"
   ]
  },
  {
   "cell_type": "code",
   "execution_count": null,
   "metadata": {},
   "outputs": [],
   "source": []
  },
  {
   "cell_type": "code",
   "execution_count": 65,
   "metadata": {},
   "outputs": [],
   "source": [
    "X = train_df[['month', 'day', 'hour', 'pm1.0', 'pm10.0', 'pm2.5', 'temp', 'humidity', 'position']]\n",
    "y = train_df[['pm2.5_next']]"
   ]
  },
  {
   "cell_type": "code",
   "execution_count": 66,
   "metadata": {},
   "outputs": [],
   "source": [
    "test_X = test_df[['month', 'day', 'hour', 'pm1.0', 'pm10.0', 'pm2.5', 'temp', 'humidity', 'position']]\n",
    "test_y = test_df[['pm2.5_next']]"
   ]
  }
 ],
 "metadata": {
  "kernelspec": {
   "display_name": "Python 3",
   "language": "python",
   "name": "python3"
  },
  "language_info": {
   "codemirror_mode": {
    "name": "ipython",
    "version": 3
   },
   "file_extension": ".py",
   "mimetype": "text/x-python",
   "name": "python",
   "nbconvert_exporter": "python",
   "pygments_lexer": "ipython3",
   "version": "3.7.3"
  }
 },
 "nbformat": 4,
 "nbformat_minor": 2
}
